{
 "cells": [
  {
   "cell_type": "markdown",
   "metadata": {},
   "source": [
    "# BERT for BETO"
   ]
  },
  {
   "cell_type": "code",
   "execution_count": 160,
   "metadata": {},
   "outputs": [],
   "source": [
    "import pandas as pd\n",
    "import numpy as np\n",
    "import torch\n",
    "import random\n",
    "import os\n",
    "import nltk\n",
    "from nltk import tokenize"
   ]
  },
  {
   "cell_type": "code",
   "execution_count": 136,
   "metadata": {},
   "outputs": [],
   "source": [
    "#Load in some data\n",
    "save_path = '/Users/Jonathan/Desktop/LabeledChemEData/Labeled_Sheets/'\n",
    "#Do we have something that allows us to fill empty cells with \"\" or something else? Maybe set any NaNs to 0? That would imply\n",
    "#A null label. \n",
    "df = pd.read_excel(save_path+\"Carbon_0.xlsx\")"
   ]
  },
  {
   "cell_type": "code",
   "execution_count": 50,
   "metadata": {},
   "outputs": [
    {
     "data": {
      "text/html": [
       "<div>\n",
       "<style scoped>\n",
       "    .dataframe tbody tr th:only-of-type {\n",
       "        vertical-align: middle;\n",
       "    }\n",
       "\n",
       "    .dataframe tbody tr th {\n",
       "        vertical-align: top;\n",
       "    }\n",
       "\n",
       "    .dataframe thead th {\n",
       "        text-align: right;\n",
       "    }\n",
       "</style>\n",
       "<table border=\"1\" class=\"dataframe\">\n",
       "  <thead>\n",
       "    <tr style=\"text-align: right;\">\n",
       "      <th></th>\n",
       "      <th>Unnamed: 0</th>\n",
       "      <th>name</th>\n",
       "      <th>tokens</th>\n",
       "      <th>BESIO</th>\n",
       "      <th>entity</th>\n",
       "      <th>mol_class</th>\n",
       "      <th>Unnamed: 6</th>\n",
       "      <th>name.1</th>\n",
       "      <th>tokens.1</th>\n",
       "      <th>BESIO.1</th>\n",
       "      <th>...</th>\n",
       "      <th>tokens.48</th>\n",
       "      <th>BESIO.48</th>\n",
       "      <th>entity.48</th>\n",
       "      <th>mol_class.48</th>\n",
       "      <th>Unnamed: 294</th>\n",
       "      <th>name.49</th>\n",
       "      <th>tokens.49</th>\n",
       "      <th>BESIO.49</th>\n",
       "      <th>entity.49</th>\n",
       "      <th>mol_class.49</th>\n",
       "    </tr>\n",
       "  </thead>\n",
       "  <tbody>\n",
       "    <tr>\n",
       "      <td>0</td>\n",
       "      <td>0</td>\n",
       "      <td>Jon O</td>\n",
       "      <td>In</td>\n",
       "      <td>NaN</td>\n",
       "      <td>NaN</td>\n",
       "      <td>NaN</td>\n",
       "      <td>0</td>\n",
       "      <td>Jon O</td>\n",
       "      <td>X-ray</td>\n",
       "      <td>NaN</td>\n",
       "      <td>...</td>\n",
       "      <td>©</td>\n",
       "      <td>NaN</td>\n",
       "      <td>NaN</td>\n",
       "      <td>NaN</td>\n",
       "      <td>0</td>\n",
       "      <td>Jon O</td>\n",
       "      <td>©</td>\n",
       "      <td>NaN</td>\n",
       "      <td>NaN</td>\n",
       "      <td>NaN</td>\n",
       "    </tr>\n",
       "    <tr>\n",
       "      <td>1</td>\n",
       "      <td>1</td>\n",
       "      <td>2010</td>\n",
       "      <td>the</td>\n",
       "      <td>NaN</td>\n",
       "      <td>NaN</td>\n",
       "      <td>NaN</td>\n",
       "      <td>1</td>\n",
       "      <td>2014</td>\n",
       "      <td>photoelectron</td>\n",
       "      <td>NaN</td>\n",
       "      <td>...</td>\n",
       "      <td>2020</td>\n",
       "      <td>NaN</td>\n",
       "      <td>NaN</td>\n",
       "      <td>NaN</td>\n",
       "      <td>1</td>\n",
       "      <td>2015</td>\n",
       "      <td>2015</td>\n",
       "      <td>NaN</td>\n",
       "      <td>NaN</td>\n",
       "      <td>NaN</td>\n",
       "    </tr>\n",
       "    <tr>\n",
       "      <td>2</td>\n",
       "      <td>2</td>\n",
       "      <td>250</td>\n",
       "      <td>interaction</td>\n",
       "      <td>NaN</td>\n",
       "      <td>NaN</td>\n",
       "      <td>NaN</td>\n",
       "      <td>2</td>\n",
       "      <td>114</td>\n",
       "      <td>spectroscopy</td>\n",
       "      <td>NaN</td>\n",
       "      <td>...</td>\n",
       "      <td>Elsevier</td>\n",
       "      <td>NaN</td>\n",
       "      <td>NaN</td>\n",
       "      <td>NaN</td>\n",
       "      <td>2</td>\n",
       "      <td>104</td>\n",
       "      <td>Elsevier</td>\n",
       "      <td>NaN</td>\n",
       "      <td>NaN</td>\n",
       "      <td>NaN</td>\n",
       "    </tr>\n",
       "    <tr>\n",
       "      <td>3</td>\n",
       "      <td>3</td>\n",
       "      <td>10.1016/j.carbon.2010.02.003</td>\n",
       "      <td>between</td>\n",
       "      <td>NaN</td>\n",
       "      <td>NaN</td>\n",
       "      <td>NaN</td>\n",
       "      <td>3</td>\n",
       "      <td>10.1016/j.carbon.2013.12.061</td>\n",
       "      <td>(XPS)</td>\n",
       "      <td>NaN</td>\n",
       "      <td>...</td>\n",
       "      <td>Ltd</td>\n",
       "      <td>NaN</td>\n",
       "      <td>NaN</td>\n",
       "      <td>NaN</td>\n",
       "      <td>3</td>\n",
       "      <td>10.1016/j.carbon.2015.08.007</td>\n",
       "      <td>Ltd.</td>\n",
       "      <td>NaN</td>\n",
       "      <td>NaN</td>\n",
       "      <td>NaN</td>\n",
       "    </tr>\n",
       "    <tr>\n",
       "      <td>4</td>\n",
       "      <td>4</td>\n",
       "      <td>NaN</td>\n",
       "      <td>gas</td>\n",
       "      <td>NaN</td>\n",
       "      <td>NaN</td>\n",
       "      <td>NaN</td>\n",
       "      <td>4</td>\n",
       "      <td>NaN</td>\n",
       "      <td>has</td>\n",
       "      <td>NaN</td>\n",
       "      <td>...</td>\n",
       "      <td>The</td>\n",
       "      <td>NaN</td>\n",
       "      <td>NaN</td>\n",
       "      <td>NaN</td>\n",
       "      <td>4</td>\n",
       "      <td>NaN</td>\n",
       "      <td>Hydrogels</td>\n",
       "      <td>NaN</td>\n",
       "      <td>NaN</td>\n",
       "      <td>NaN</td>\n",
       "    </tr>\n",
       "    <tr>\n",
       "      <td>...</td>\n",
       "      <td>...</td>\n",
       "      <td>...</td>\n",
       "      <td>...</td>\n",
       "      <td>...</td>\n",
       "      <td>...</td>\n",
       "      <td>...</td>\n",
       "      <td>...</td>\n",
       "      <td>...</td>\n",
       "      <td>...</td>\n",
       "      <td>...</td>\n",
       "      <td>...</td>\n",
       "      <td>...</td>\n",
       "      <td>...</td>\n",
       "      <td>...</td>\n",
       "      <td>...</td>\n",
       "      <td>...</td>\n",
       "      <td>...</td>\n",
       "      <td>...</td>\n",
       "      <td>...</td>\n",
       "      <td>...</td>\n",
       "      <td>...</td>\n",
       "    </tr>\n",
       "    <tr>\n",
       "      <td>349</td>\n",
       "      <td>349</td>\n",
       "      <td>NaN</td>\n",
       "      <td>NaN</td>\n",
       "      <td>NaN</td>\n",
       "      <td>NaN</td>\n",
       "      <td>NaN</td>\n",
       "      <td>349</td>\n",
       "      <td>NaN</td>\n",
       "      <td>NaN</td>\n",
       "      <td>NaN</td>\n",
       "      <td>...</td>\n",
       "      <td>NaN</td>\n",
       "      <td>NaN</td>\n",
       "      <td>NaN</td>\n",
       "      <td>NaN</td>\n",
       "      <td>349</td>\n",
       "      <td>NaN</td>\n",
       "      <td>NaN</td>\n",
       "      <td>NaN</td>\n",
       "      <td>NaN</td>\n",
       "      <td>NaN</td>\n",
       "    </tr>\n",
       "    <tr>\n",
       "      <td>350</td>\n",
       "      <td>350</td>\n",
       "      <td>NaN</td>\n",
       "      <td>NaN</td>\n",
       "      <td>NaN</td>\n",
       "      <td>NaN</td>\n",
       "      <td>NaN</td>\n",
       "      <td>350</td>\n",
       "      <td>NaN</td>\n",
       "      <td>NaN</td>\n",
       "      <td>NaN</td>\n",
       "      <td>...</td>\n",
       "      <td>NaN</td>\n",
       "      <td>NaN</td>\n",
       "      <td>NaN</td>\n",
       "      <td>NaN</td>\n",
       "      <td>350</td>\n",
       "      <td>NaN</td>\n",
       "      <td>NaN</td>\n",
       "      <td>NaN</td>\n",
       "      <td>NaN</td>\n",
       "      <td>NaN</td>\n",
       "    </tr>\n",
       "    <tr>\n",
       "      <td>351</td>\n",
       "      <td>351</td>\n",
       "      <td>NaN</td>\n",
       "      <td>NaN</td>\n",
       "      <td>NaN</td>\n",
       "      <td>NaN</td>\n",
       "      <td>NaN</td>\n",
       "      <td>351</td>\n",
       "      <td>NaN</td>\n",
       "      <td>NaN</td>\n",
       "      <td>NaN</td>\n",
       "      <td>...</td>\n",
       "      <td>NaN</td>\n",
       "      <td>NaN</td>\n",
       "      <td>NaN</td>\n",
       "      <td>NaN</td>\n",
       "      <td>351</td>\n",
       "      <td>NaN</td>\n",
       "      <td>NaN</td>\n",
       "      <td>NaN</td>\n",
       "      <td>NaN</td>\n",
       "      <td>NaN</td>\n",
       "    </tr>\n",
       "    <tr>\n",
       "      <td>352</td>\n",
       "      <td>352</td>\n",
       "      <td>NaN</td>\n",
       "      <td>NaN</td>\n",
       "      <td>NaN</td>\n",
       "      <td>NaN</td>\n",
       "      <td>NaN</td>\n",
       "      <td>352</td>\n",
       "      <td>NaN</td>\n",
       "      <td>NaN</td>\n",
       "      <td>NaN</td>\n",
       "      <td>...</td>\n",
       "      <td>NaN</td>\n",
       "      <td>NaN</td>\n",
       "      <td>NaN</td>\n",
       "      <td>NaN</td>\n",
       "      <td>352</td>\n",
       "      <td>NaN</td>\n",
       "      <td>NaN</td>\n",
       "      <td>NaN</td>\n",
       "      <td>NaN</td>\n",
       "      <td>NaN</td>\n",
       "    </tr>\n",
       "    <tr>\n",
       "      <td>353</td>\n",
       "      <td>353</td>\n",
       "      <td>NaN</td>\n",
       "      <td>NaN</td>\n",
       "      <td>NaN</td>\n",
       "      <td>NaN</td>\n",
       "      <td>NaN</td>\n",
       "      <td>353</td>\n",
       "      <td>NaN</td>\n",
       "      <td>NaN</td>\n",
       "      <td>NaN</td>\n",
       "      <td>...</td>\n",
       "      <td>NaN</td>\n",
       "      <td>NaN</td>\n",
       "      <td>NaN</td>\n",
       "      <td>NaN</td>\n",
       "      <td>353</td>\n",
       "      <td>NaN</td>\n",
       "      <td>NaN</td>\n",
       "      <td>NaN</td>\n",
       "      <td>NaN</td>\n",
       "      <td>NaN</td>\n",
       "    </tr>\n",
       "  </tbody>\n",
       "</table>\n",
       "<p>354 rows × 300 columns</p>\n",
       "</div>"
      ],
      "text/plain": [
       "     Unnamed: 0                          name       tokens BESIO entity  \\\n",
       "0             0                         Jon O           In   NaN    NaN   \n",
       "1             1                          2010          the   NaN    NaN   \n",
       "2             2                           250  interaction   NaN    NaN   \n",
       "3             3  10.1016/j.carbon.2010.02.003      between   NaN    NaN   \n",
       "4             4                           NaN          gas   NaN    NaN   \n",
       "..          ...                           ...          ...   ...    ...   \n",
       "349         349                           NaN          NaN   NaN    NaN   \n",
       "350         350                           NaN          NaN   NaN    NaN   \n",
       "351         351                           NaN          NaN   NaN    NaN   \n",
       "352         352                           NaN          NaN   NaN    NaN   \n",
       "353         353                           NaN          NaN   NaN    NaN   \n",
       "\n",
       "    mol_class  Unnamed: 6                        name.1       tokens.1  \\\n",
       "0         NaN           0                         Jon O          X-ray   \n",
       "1         NaN           1                          2014  photoelectron   \n",
       "2         NaN           2                           114   spectroscopy   \n",
       "3         NaN           3  10.1016/j.carbon.2013.12.061          (XPS)   \n",
       "4         NaN           4                           NaN            has   \n",
       "..        ...         ...                           ...            ...   \n",
       "349       NaN         349                           NaN            NaN   \n",
       "350       NaN         350                           NaN            NaN   \n",
       "351       NaN         351                           NaN            NaN   \n",
       "352       NaN         352                           NaN            NaN   \n",
       "353       NaN         353                           NaN            NaN   \n",
       "\n",
       "    BESIO.1  ... tokens.48 BESIO.48  entity.48 mol_class.48 Unnamed: 294  \\\n",
       "0       NaN  ...         ©      NaN        NaN          NaN            0   \n",
       "1       NaN  ...      2020      NaN        NaN          NaN            1   \n",
       "2       NaN  ...  Elsevier      NaN        NaN          NaN            2   \n",
       "3       NaN  ...       Ltd      NaN        NaN          NaN            3   \n",
       "4       NaN  ...       The      NaN        NaN          NaN            4   \n",
       "..      ...  ...       ...      ...        ...          ...          ...   \n",
       "349     NaN  ...       NaN      NaN        NaN          NaN          349   \n",
       "350     NaN  ...       NaN      NaN        NaN          NaN          350   \n",
       "351     NaN  ...       NaN      NaN        NaN          NaN          351   \n",
       "352     NaN  ...       NaN      NaN        NaN          NaN          352   \n",
       "353     NaN  ...       NaN      NaN        NaN          NaN          353   \n",
       "\n",
       "                          name.49  tokens.49 BESIO.49  entity.49 mol_class.49  \n",
       "0                           Jon O          ©      NaN        NaN          NaN  \n",
       "1                            2015       2015      NaN        NaN          NaN  \n",
       "2                             104   Elsevier      NaN        NaN          NaN  \n",
       "3    10.1016/j.carbon.2015.08.007       Ltd.      NaN        NaN          NaN  \n",
       "4                             NaN  Hydrogels      NaN        NaN          NaN  \n",
       "..                            ...        ...      ...        ...          ...  \n",
       "349                           NaN        NaN      NaN        NaN          NaN  \n",
       "350                           NaN        NaN      NaN        NaN          NaN  \n",
       "351                           NaN        NaN      NaN        NaN          NaN  \n",
       "352                           NaN        NaN      NaN        NaN          NaN  \n",
       "353                           NaN        NaN      NaN        NaN          NaN  \n",
       "\n",
       "[354 rows x 300 columns]"
      ]
     },
     "execution_count": 50,
     "metadata": {},
     "output_type": "execute_result"
    }
   ],
   "source": [
    "df"
   ]
  },
  {
   "cell_type": "markdown",
   "metadata": {},
   "source": [
    "Need to update extract_xy_ to pull out just the x values (ie, tokens), and the y values as a smashed together BESIO. He used NLTK sent_tokenize, so we are in the same place, and we can just go back to having sentences or something."
   ]
  },
  {
   "cell_type": "code",
   "execution_count": 138,
   "metadata": {},
   "outputs": [],
   "source": [
    "def extract_xy_(df):\n",
    "    \"\"\"\n",
    "    This method extracts and correctly aranges the NER training x-values (tokens)\n",
    "    and y-values (BESIO labels) from a pandas dataframe containing labeled NER\n",
    "    data\n",
    "\n",
    "    Parameters:\n",
    "        df (pandas DataFrame, required): Dataframe loaded via pd.read_excel() on\n",
    "            a labeled NER dataset\n",
    "\n",
    "        endings_dict (dictionary, required): Dictionary containing the indicies\n",
    "            where each sentence in each line of tokens ends.\n",
    "\n",
    "    Returns:\n",
    "        list: List of tuples, containing the x,y pairs\n",
    "    \"\"\"\n",
    "    labeled = []\n",
    "    columns = df.columns\n",
    "    new_df = pd.DataFrame()\n",
    "    all_tokens = []\n",
    "    besio = []\n",
    "    mol = []\n",
    "    IorO = []\n",
    "        \n",
    "    for idx, column in enumerate(columns):\n",
    "        # find every column that starts with 'name'\n",
    "        if column.startswith('name'):\n",
    "\n",
    "            # check if the entry in 'name' cell is a str\n",
    "            if isinstance(df[column][0], str):\n",
    "                tokens = df[columns[idx + 1]].values\n",
    "                #find the index where the tokens become NaNs, and chop the token length down to that size. \n",
    "                l = 0\n",
    "                for entries in tokens: \n",
    "                    if type(entries) == str:\n",
    "                        l += 1\n",
    "                all_tokens.append(tokens[:l])\n",
    "                df[columns[idx+2]].replace(np.nan, 'O', inplace = True)\n",
    "                besio.append(df[columns[idx+2]][:l].values)\n",
    "                df[columns[idx+3]].replace(np.nan, '', inplace = True)\n",
    "                mol.append(df[columns[idx+3]][:l].values)\n",
    "                df[columns[idx+4]].replace(np.nan, '', inplace = True)\n",
    "                IorO.append(df[columns[idx+4]][:l].values)\n",
    "\n",
    "    i = 0\n",
    "    label_values = []\n",
    "   # print(len(besio))\n",
    "    while i < len(besio):\n",
    "        label_values.append([])\n",
    "       # print(len(besio[i]))\n",
    "       # print(range(len(besio[i])))\n",
    "        for j in range(len(besio[i])):\n",
    "            if besio[i][j] == 'O':\n",
    "                label_values[i].append(besio[i][j])\n",
    "            else:\n",
    "                label_values[i].append(besio[i][j]+'-'+mol[i][j]+'-'+IorO[i][j])\n",
    "        i += 1   \n",
    "    return all_tokens, label_values"
   ]
  },
  {
   "cell_type": "code",
   "execution_count": 131,
   "metadata": {
    "collapsed": true,
    "jupyter": {
     "outputs_hidden": true
    }
   },
   "outputs": [
    {
     "name": "stdout",
     "output_type": "stream",
     "text": [
      "219\n",
      "91\n",
      "133\n",
      "47\n",
      "114\n",
      "127\n",
      "135\n",
      "232\n",
      "136\n",
      "196\n",
      "124\n",
      "52\n",
      "39\n",
      "115\n"
     ]
    }
   ],
   "source": [
    "tokens, labels = extract_xy_(df)"
   ]
  },
  {
   "cell_type": "code",
   "execution_count": 135,
   "metadata": {},
   "outputs": [
    {
     "data": {
      "text/plain": [
       "91"
      ]
     },
     "execution_count": 135,
     "metadata": {},
     "output_type": "execute_result"
    }
   ],
   "source": [
    "len(labels[1])"
   ]
  },
  {
   "cell_type": "code",
   "execution_count": 134,
   "metadata": {},
   "outputs": [
    {
     "data": {
      "text/plain": [
       "91"
      ]
     },
     "execution_count": 134,
     "metadata": {},
     "output_type": "execute_result"
    }
   ],
   "source": [
    "len(tokens[1])"
   ]
  },
  {
   "cell_type": "markdown",
   "metadata": {},
   "source": [
    "Ok, so now we have two lists. Both lists are structured so that each entry represents a unique paper (ie, tokens[1] is a whole paper). We need to now chop it down so that all the extra entries at the end are removed, and the list tokens[1] is only as long as there are words in that paper. \n",
    "\n",
    "Once we have done that for each entry, we will need to build a looping/wrapper function that will read every excel sheet in a directory. It'd be ideal if that looping function would append each new list to the previous list, so we could end up with every single labeled paper in a single set of two lists. \n",
    "\n",
    "After we have that function built, the next step is to try to regenerate our sentence-split structure. First step is to make each paper back into a single string. We'll do this by making a homemade inverse .split() function, which means we'll add each item in the tokens[1] list together with a single whitespace between them. Example is in the case ['The', 'dog', 'ran.'] we would want to regen the original string of ['The dog ran.']. We could do that by doing original_string += (token[1][i]+ ' '). Once we have made each paper in the list back into individual strings, we'll chop each string into individual sentences by using NLTK. \n",
    "\n",
    "All of the above is now done!\n",
    "\n",
    "From that point, it's more standard BERT. We'll use BERT's tokenizer. We'll need to make sure we hand-extend each label to match the tokenization done by the BERT tokenizer so we don't have length mismatches (a la: https://www.depends-on-the-definition.com/named-entity-recognition-with-bert/ function tokenize_and_preserve_labels) and then we'll send it to a dataloader. "
   ]
  },
  {
   "cell_type": "code",
   "execution_count": 214,
   "metadata": {},
   "outputs": [],
   "source": [
    "#Ok, need another def function that takes in a list of tokens, and a list of labels, and returns them each as a list of strings\n",
    "def tokenized_to_string(token_list):\n",
    "    token_stringlist = []\n",
    "    for paper_tokens in token_list:\n",
    "        paper_string = \"\"\n",
    "        for i in paper_tokens:\n",
    "            #This is basically an 'unsplit' method lol\n",
    "            paper_string += (str(i) + \" \")\n",
    "        token_stringlist.append(paper_string)\n",
    "    return token_stringlist"
   ]
  },
  {
   "cell_type": "code",
   "execution_count": 226,
   "metadata": {},
   "outputs": [],
   "source": [
    "def labeled_sheets_to_listed_tokens(directory_url):\n",
    "    \"\"\"This function opens a directory of labeled excel sheets from David's excel sheets and returns the tokens as a list \n",
    "    of strings fully combined on a document level. It returns a list of strings, with each string being a full document.\"\"\"\n",
    "    files = os.listdir(directory_url)\n",
    "    token_list = []\n",
    "    label_list = []\n",
    "    for file in files:\n",
    "        df = pd.read_excel(directory_url+file)\n",
    "        token, label = extract_xy_(df)\n",
    "        token_list += (tokenized_to_string(token))\n",
    "        label_list += (label)\n",
    "    #Now we tokenize each paper by sentences using NLTK:\n",
    "    for i in range(len(token_list)):\n",
    "        sentences = tokenize.sent_tokenize(token_list[i])\n",
    "        token_list[i] = sentences\n",
    "    return token_list, label_list"
   ]
  },
  {
   "cell_type": "code",
   "execution_count": 227,
   "metadata": {},
   "outputs": [],
   "source": [
    "list_o_tokens, list_o_labels = labeled_sheets_to_listed_tokens(dir_url)"
   ]
  },
  {
   "cell_type": "code",
   "execution_count": 228,
   "metadata": {},
   "outputs": [
    {
     "name": "stdout",
     "output_type": "stream",
     "text": [
      "['Soot may be formed when carbonaceous fuels are burned under local reducing conditions.', 'Its subsequent oxidation is of great significance for pollution control in industrial flames, auto engines etc.', 'Oxidation (gasification) can be achieved with oxygen, carbon dioxide, water vapour or nitrogen dioxide.', 'In this review, the experimental techniques which have been used to study the gasification of soot are described and the methods and results obtained by analysis of the data from them are considered.', 'Firstly, the mechanism of soot formation and its structure are briefly discussed.', 'The various scales of particulate which comprise it, i.e.', 'spherule, particle and aggregate, influence its properties and behaviour.', 'Next, the experimental equipment used in the study of its gasification is briefly described.', 'Gasification kinetics at low temperatures are measured either in fixed beds or by thermogravimetry.', 'The apparatus may be operated as a thermally programmed desorption system to identify the species involved.', 'High temperature investigations have been carried out in entrainment burners and shock tubes.', 'The chemistry of soot oxidation is discussed for both non-catalytic and catalytic conditions.', 'The oxidation pathway involves interaction between adsorption and desorption processes, which determine the primary products, the order of reaction and the activation energy.', 'The concensus is that two types of adsorbed surface species are present in uncatalysed combustion.', 'The combustion mechanism of individual spherules is considered in terms of basic property changes.', 'During thermogravimetry, the influence of the competition between reaction and oxygen diffusion in soot beds is analysed.', 'The reaction of catalysed soot displays a different mechanism, as the primary products, the order of reaction and the activation energy all change.', 'The lower activation energy and higher reactivity lead to lower ignition temperatures.', 'Catalysts may be incorporated into the soot spherules by addition to the fuel, or may be added after formation.', \"Two types of contact between the carbon and added catalyst have been identified, loose' and tight'.\", 'Tight catalyst, which has been mechanically ground with the soot, produces more pronounced effects.', 'Finally, the behaviour of soot during gasification by other oxidants, namely H2O, CO2 and NO2 is summarised.', '© 2001 Elsevier Science Ltd. All rights']\n"
     ]
    }
   ],
   "source": [
    "print(list_o_tokens[41])"
   ]
  },
  {
   "cell_type": "code",
   "execution_count": 225,
   "metadata": {
    "collapsed": true,
    "jupyter": {
     "outputs_hidden": true
    }
   },
   "outputs": [
    {
     "name": "stdout",
     "output_type": "stream",
     "text": [
      "['S-MOL-O', 'O', 'O', 'O', 'O', 'O', 'O', 'O', 'O', 'O', 'O', 'O', 'O', 'O', 'O', 'O', 'O', 'O', 'O', 'O', 'O', 'O', 'O', 'O', 'O', 'O', 'O', 'O', 'O', 'O', 'O', 'O', 'O', 'O', 'O', 'S-MOL-I', 'B-MOL-I', 'E-MOL-I', 'S-MOL-I', 'O', 'O', 'B-MOL-I', 'E-MOL-I', 'O', 'O', 'O', 'O', 'O', 'O', 'O', 'O', 'O', 'O', 'O', 'O', 'O', 'O', 'O', 'S-MOL-I', 'O', 'O', 'O', 'O', 'O', 'O', 'O', 'O', 'O', 'O', 'O', 'O', 'O', 'O', 'O', 'O', 'O', 'O', 'O', 'O', 'O', 'S-MOL-I', 'O', 'O', 'O', 'O', 'O', 'O', 'O', 'O', 'O', 'O', 'O', 'O', 'O', 'O', 'O', 'O', 'O', 'O', 'O', 'O', 'O', 'O', 'O', 'O', 'O', 'O', 'O', 'O', 'O', 'O', 'O', 'O', 'O', 'O', 'O', 'O', 'O', 'O', 'O', 'O', 'O', 'O', 'O', 'O', 'O', 'O', 'O', 'O', 'O', 'O', 'O', 'O', 'O', 'O', 'O', 'O', 'O', 'O', 'O', 'O', 'O', 'O', 'O', 'O', 'O', 'O', 'O', 'O', 'O', 'O', 'O', 'O', 'O', 'O', 'O', 'O', 'O', 'O', 'O', 'O', 'O', 'O', 'O', 'O', 'O', 'S-MOL-I', 'O', 'O', 'O', 'O', 'O', 'O', 'O', 'O', 'O', 'O', 'O', 'O', 'O', 'O', 'O', 'O', 'O', 'O', 'O', 'O', 'O', 'O', 'O', 'O', 'O', 'O', 'O', 'O', 'O', 'O', 'B-PRO-', 'E-PRO-', 'O', 'O', 'O', 'O', 'O', 'O', 'O', 'O', 'O', 'O', 'O', 'O', 'O', 'O', 'O', 'O', 'O', 'O', 'O', 'O', 'O', 'O', 'O', 'O', 'O', 'O', 'O', 'O', 'O', 'O', 'O', 'O', 'O', 'O', 'O', 'O', 'O', 'O', 'O', 'S-MOL-I', 'O', 'O', 'S-MOL-I', 'O', 'O', 'O', 'O', 'O', 'O', 'O', 'S-MOL-I', 'O', 'O', 'O', 'O', 'O', 'O', 'O', 'O', 'O', 'O', 'O', 'O', 'O', 'O', 'B-PRO-', 'E-PRO-', 'O', 'O', 'O', 'O', 'B-PRO-', 'E-PRO-', 'O', 'O', 'O', 'O', 'O', 'O', 'O', 'O', 'O', 'O', 'O', 'O', 'O', 'O', 'S-MOL-I', 'O', 'O', 'O', 'O', 'O', 'O', 'O', 'O', 'O', 'O', 'O', 'O', 'O', 'O', 'O', 'O', 'O', 'O', 'S-MOL-I', 'O', 'O', 'O', 'O', 'O', 'O', 'O', 'O', 'O', 'O', 'O', 'O', 'O', 'O', 'O', 'O', 'O', 'O', 'S-MOL-I', 'O', 'O', 'O', 'O', 'O', 'O', 'O', 'O', 'S-MOL-I', 'O', 'O', 'O', 'O', 'O', 'O', 'S-MOL-I', 'S-MOL-I', 'O', 'S-MOL-I', 'O', 'O', 'O', 'O', 'O', 'O', 'O', 'O', 'O']\n"
     ]
    }
   ],
   "source": [
    "print(list_o_labels[41])"
   ]
  },
  {
   "cell_type": "code",
   "execution_count": 104,
   "metadata": {},
   "outputs": [
    {
     "name": "stdout",
     "output_type": "stream",
     "text": [
      "['Carbon_0.xlsx', 'Carbon_1.xlsx', 'Journal_of_Inorganic_Biochemistry_0.xlsx', 'Journal_of_Inorganic_Biochemistry_1.xlsx', 'Journal_of_Organometallic_Chemistry_0.xlsx', 'Journal_of_Organometallic_Chemistry_1.xlsx']\n",
      "Journal_of_Inorganic_Biochemistry_0.xlsx\n"
     ]
    }
   ],
   "source": [
    "#Wrapper function that loops all excel spreadsheets and truncates each entry in each spreadsheet.\n",
    "dir_url = '/Users/Jonathan/Desktop/LabeledChemEData/Labeled_Sheets/'\n",
    "#for all sheets in dir_url:\n",
    "files = os.listdir(dir_url)\n",
    "print(files)\n",
    "print(files[2])"
   ]
  },
  {
   "cell_type": "code",
   "execution_count": 153,
   "metadata": {
    "collapsed": true,
    "jupyter": {
     "outputs_hidden": true
    }
   },
   "outputs": [
    {
     "name": "stdout",
     "output_type": "stream",
     "text": [
      "X-ray photoelectron spectroscopy (XPS) has been commonly used to determine the nitrogen-containing functional groups of graphene. However, reported assignments of C1s shifts of nitrogen-containing functional groups are unclear. Most works discuss peak shifts of only N1s spectra and C1s shifts and the full width at half maximum (FWHM) are excluded. Thus, peak shifts and FWHMs of C1s and N1s XPS spectra of graphene with nitrogen-containing functional groups such as pyridinic, phenanthroline-like, sp2C-NH2, sp 3C-NH2, pyrrolic, imine, pyridazine-like, pyrazole-like, sp2C-CN, sp3C-CN, and valley quaternary nitrogen (Q-N) on edges and sp3C-NH2, center amine, and center Q-N in the basal plane were simulated using density functional theory calculation. Main peaks of C1s spectra were shifted positively and negatively by the electron-withdrawing and electron-donating functional groups, respectively. FWHMs of the main peaks of C1s spectra were influenced by mainly electron-withdrawing functional groups on edges and most functional groups in the basal plane. Sp2C-NH2 on zigzag edges is suggested as a reference functional group to adjust the N1s spectra because influence of the functional group on the shift of main peak and the FWHM of C1s spectrum was small. © 2013 Elsevier Ltd. All rights \n",
      "['O', 'O', 'O', 'O', 'O', 'O', 'O', 'O', 'O', 'O', 'O', 'S-PRO-', 'O', 'O', 'O', 'S-MOL-I', 'O', 'O', 'O', 'O', 'B-PRO-', 'E-PRO-', 'O', 'O', 'O', 'O', 'O', 'O', 'O', 'O', 'O', 'B-PRO-', 'E-PRO-', 'O', 'O', 'B-PRO-', 'E-PRO-', 'O', 'B-PRO-', 'E-PRO-', 'O', 'O', 'B-PRO-', 'I-PRO-', 'I-PRO-', 'I-PRO-', 'E-PRO-', 'S-PRO-', 'O', 'O', 'O', 'B-PRO-', 'E-PRO-', 'O', 'S-PRO-', 'O', 'S-PRO-', 'O', 'S-PRO-', 'O', 'O', 'O', 'S-MOL-I', 'O', 'S-PRO-', 'O', 'O', 'O', 'O', 'S-MOL-O', 'S-MOL-O', 'S-MOL-O', 'B-MOL-O', 'E-MOL-O', 'S-MOL-O', 'S-MOL-O', 'S-MOL-O', 'S-MOL-O', 'S-MOL-O', 'S-MOL-O', 'O', 'B-MOL-O', 'I-MOL-O', 'E-MOL-O', 'S-MOL-O', 'O', 'O', 'O', 'S-MOL-O', 'O', 'S-MOL-O', 'O', 'O', 'S-MOL-O', 'O', 'O', 'O', 'O', 'O', 'O', 'O', 'O', 'O', 'O', 'O', 'O', 'O', 'O', 'S-PRO-', 'O', 'O', 'O', 'O', 'O', 'O', 'O', 'O', 'S-PRO-', 'O', 'S-PRO-', 'O', 'O', 'O', 'S-PRO-', 'O', 'O', 'O', 'O', 'O', 'S-PRO-', 'O', 'O', 'O', 'O', 'O', 'S-PRO-', 'O', 'O', 'O', 'O', 'O', 'O', 'O', 'O', 'O', 'O', 'O', 'O', 'S-MOL-O', 'O', 'O', 'O', 'O', 'O', 'O', 'O', 'O', 'O', 'O', 'O', 'O', 'O', 'S-PRO-', 'O', 'O', 'O', 'O', 'O', 'O', 'O', 'O', 'O', 'O', 'O', 'O', 'O', 'O', 'O', 'S-PRO-', 'O', 'S-PRO-', 'O', 'O', 'O', 'O', 'O', 'O', 'O', 'O', 'O']\n"
     ]
    }
   ],
   "source": [
    "token_list = []\n",
    "label_list = []\n",
    "for file in files:\n",
    "    df = pd.read_excel(dir_url+file)\n",
    "    token, label = extract_xy_(df)\n",
    "    token_list.append(tokenized_to_string(token))\n",
    "    label_list.append(label)\n",
    "print(token_list[0][1])\n",
    "print(label_list[0][1])"
   ]
  },
  {
   "cell_type": "code",
   "execution_count": 143,
   "metadata": {
    "collapsed": true,
    "jupyter": {
     "outputs_hidden": true,
     "source_hidden": true
    }
   },
   "outputs": [
    {
     "name": "stdout",
     "output_type": "stream",
     "text": [
      "['In the interaction between gas molecules with single-walled carbon nanotube (SWCNT) we show that as a result of collisions the gas scattering contributes with an important background signal and should be considered in SWCNT-based gas sensors. Experimental evidence of the collision-induced tube wall deformation is demonstrated using in situ X-ray absorption near-edge structure spectroscopy. Results support the occurrence of the scattering process and show how gas collisions may affect the electronic structure of SWCNTs. © 2010 Elsevier ', 'X-ray photoelectron spectroscopy (XPS) has been commonly used to determine the nitrogen-containing functional groups of graphene. However, reported assignments of C1s shifts of nitrogen-containing functional groups are unclear. Most works discuss peak shifts of only N1s spectra and C1s shifts and the full width at half maximum (FWHM) are excluded. Thus, peak shifts and FWHMs of C1s and N1s XPS spectra of graphene with nitrogen-containing functional groups such as pyridinic, phenanthroline-like, sp2C-NH2, sp 3C-NH2, pyrrolic, imine, pyridazine-like, pyrazole-like, sp2C-CN, sp3C-CN, and valley quaternary nitrogen (Q-N) on edges and sp3C-NH2, center amine, and center Q-N in the basal plane were simulated using density functional theory calculation. Main peaks of C1s spectra were shifted positively and negatively by the electron-withdrawing and electron-donating functional groups, respectively. FWHMs of the main peaks of C1s spectra were influenced by mainly electron-withdrawing functional groups on edges and most functional groups in the basal plane. Sp2C-NH2 on zigzag edges is suggested as a reference functional group to adjust the N1s spectra because influence of the functional group on the shift of main peak and the FWHM of C1s spectrum was small. © 2013 Elsevier Ltd. All rights ', 'A new air electrode using a combination of dual functional silver/manganese dioxide catalysts based on single-walled carbon nanotubes (SWNTs) was developed by chemically reducing silver permanganate with hydrazine. The electrode prepared comprises a high-quality carbon nanotube support with a complex of manganese dioxide and silver catalysts. The electrocatalytical activity of the electrode was examined via a variety of electrochemical testing techniques. Higher electrocatalytical activity for the oxygen reduction reaction and better performance of the zinc air cell, as compared with the catalysts supported on mesocarbon microbeads (MCMB) or commercial graphite, was achieved. © 2004 Elsevier Ltd. All rights ', '© 2016 Elsevier Ltd The filling of single-walled carbon nanotube films with 1-adamantanemethanol and 1-bromoadamantane molecules was carried out by a gas-phase procedure. Optical absorption and Raman spectroscopies revealed the effects of charge transfer for samples treated with 1-bromoadamantane. Using density functional simulations we show that the charge transfer takes place when bromine is detached from the carbon cage and accepts electrons as free-standing atoms or as polybromide structures. Transmission electron microscope images confirm the presence of individual bromine atoms inside carbon nanotubes, treated with 1-bromoadamantane molecules. The observed charge transfer is, therefore, a marker of the dehalogenization reaction, a critical step in the synthesis process of narrow 1D sp3 ', 'The bulk chemistry of commercial carbon blacks and carbon blacks obtained by vacuum pyrolysis (CBp) of used tires was investigated by 13C-NMR spectroscopy with and without magic angle spinning of the sample. Two different kinds of carbon atoms can be distinguished: Graphite like carbon atoms in poly-condensed aromatic rings and carbon atoms in a less ordered environment. Commercial carbon blacks and CBp obtained under different pyrolysis conditions have practically the same concentrations of the different types of carbon atoms in the bulk, whereas earlier ESCA and SIMS investigations have shown that the surface chemistry of CBp is different from commercial carbon blacks and depends strongly on the pyrolysis conditions. Thus, during the pyrolysis only the carbon black surface chemistry is changed. The carbon black bulk structure was also studied by X-ray diffraction. The XRD results, including the radial distribution function (RDF) indicated, in agreement with the NMR results, that the bulk structure of commercial carbon blacks and of CBp are similar ', 'In this work we study the carbonization resulting from an intumescence phenomenon of the fire-retardant formulation: ethylene terpolymer-ammonium polyphosphate/pentaerythritol. Characterisation of the intumescent coating is carried out using infrared spectroscopy and MAS-NMR of the solid state. The study shows the formation of organic phosphocarbonaceous esters, which limits depolymerisation or the evolution of gaseous hydrocarbons. These esters prevent the development of condensed polyaromatic structures. These latter are bridged by the polyethylenic links, which provide the mechanical properties of interest in the protective shield. © ', 'Here we describe synthesis of very unusual multi-walled carbon nanotubes through a catalytic chemical vapor deposition method using a floating reactant method and subsequent thermal treatment up to 2600 °C in a large quantity. Main characteristics of these nanotubes are -1 relatively wide distribution of diameters ranging from 20 to 70 nm and linear, long macro-morphology (aspect ratio >100), -2 highly straight and crystalline layers, -3 high purity through removal of metallic impurity, -4 very low interlayer spacing (0.3385 nm) and low R value (ID/IG nan 0.0717), -5 high G′ intensity over intensity of G band (G′/G nan 0.85) and strongly negative magnetoresistance value of -0.0108 at 77 K and 1 T. The unusual microstructure of thin multi-walled carbon nanotubes with a partially facetted cross-sectional shape caused by thermal treatment is mainly ascribed to abrupt density changes (from 1.89 to 2.1 g/cm3) within ', 'Two-dimensional carbon nanostructures have been produced via flame synthesis. Flame conditions and sampling methods have been optimized for the collection of the carbon nanostructures and for their characterization. Atomic Force Microscopy, Differential Mobility Analysis and Raman spectroscopy have been used to characterize the morphology and the chemical composition of these carbon nanostructures. Results show that a network of aromatic compounds connected by non-aromatic bonding arrange to form bi-dimensional structures that assume an atomically thin disk-like shape when deposited on a substrate. The in plane lateral dimension is of the order of tens of nanometers, and the height of about 3 Å. In spite of a significant amount of disorder, Raman spectroscopy evidences that lattice distortion is not very large in these flame nano-disks. © 2013 Elsevier Ltd. All ', '© 2017 Elsevier Ltd The earliest stages of soot formation in flames are believed to involve the formation of small, nanoscale clusters of polycyclic aromatic hydrocarbon molecules. The structure of these clusters is still highly uncertain, however, impeding the construction of quantitative models of soot inception and growth. To provide insight into the structure of incipient soot, we produced nanoclusters of hydrocarbon molecules by annealing coronene films deposited on Pt(111), and examined them with scanning tunneling microcopy. We find that clusters containing ∼20–100 molecules, are disordered agglomerations of stacks that are ∼5–6 molecules tall. These structures are quite distinct from crystalline coronene, but bear a striking resemblance to recently proposed models for the equilibrium structure of similarly-sized clusters that are assumed to initiate soot formation. In contrast to mature soot, the surfaces of these clusters contain very few molecules with graphitic planes oriented parallel to the ', 'Previously reported research, demonstrating a role of adsorbed molecular oxygen in the reaction of ozone with soot particles and in their hydration, has been extended to explore the interaction between O2 and SO2, O3, H2O, NH3, NO2 and NO at the soot surface as well as the effect of these adsorbates on each other. Electron paramagnetic resonance (EPR) and microgravimetry have revealed the extent of interactions between some competing reactants on soot. EPR has been used as a probe of the surface behavior of paramagnetic species (O2, NO2, NO) through their effect on the intensity of a large signal which is the result of the high concentration of unpaired electrons in soots. The effects of diamagnetic reactants (H2O, NH3, SO2) also are measured through their influence on the paramagnetic adsorbates and thus on the EPR signal. Microgravimetric measurements of adsorption and changes in the mass resulting from surface reactions also have enabled interpretations of the behavior of reactants on soot particles. Details of the modes of adsorption of SO2, NO2 and NH3 on n-hexane soot have emerged from these measurements as well. © 1998 Elsevier Science Ltd. All rights ', 'Iron benzoate and naphthoate were studied as catalyst precursors of an iron-catalyzed pyrolysis of a coal-tar pitch as a technical hydrocarbon mixture and of anthracene as an aromatic model compound. The results are compared with those obtained with ferrocene, which has been studied previously. Both iron compounds are decomposed by formation of iron clusters at a much lower temperature than ferrocene. For this reason the catalytic effect of iron is found at shorter reaction times and particularly at lower temperatures. Anthracene is converted to a semi-coke at temperatures as low as 444 °C. In pitch pyrolysis, the catalytic activity of iron is limited, because the iron is poisoned by formation of iron sulfides. With iron benzoate, but not with iron naphthoate, the nucleation and growth of mesophase spheres is strongly influenced. Spherulites are nearly equal in size and have a reduced tendency to coalesce up to very high spherulite content. The surface of the spheres is disturbed by segregated material containing iron sulfide. Similar results were also found with ferrocene. ', 'The preparation of microporous activated carbon from coconut shells without activating agents was studied. An adiabatic expansion at the state of thermal degradation followed by carbonization was used to create a microporous structure of activated carbon. It was found that although the specific surface area was not high, such activated carbon had a narrow distribution of pore size in the range, possibly less than 1 ', 'Active carbons containing up to 0.045 nitrogen (SCN-type carbons) were prepared by carbonization in argon and steam activation of a vinylpyridine resin. The porous structure of the SCN carbons with different burn-off values was characterized by gas adsorption (N2 and CO2), mercury porosimetry and helium pycnometry. The SCN carbons exhibit micro- and mesoporosities, which may be regulated. By microcalorimetric and water adsorption methods it was shown, that SCN carbons present a higher surface polarity than carbons without nitrogen. The nitrogen atoms in the carbon structure behave as polar sites. The nitrogen chemistry investigated by XPS analysis is discussed. The nitrogen chemical functions in SCN carbons are transformed during heat treatment. In the char obtained at 1223 K and samples of activated carbons, the nitrogen is present in the six-membered rings of the ', 'We report the observation of the electromechanical self-oscillations excited in a vacuum diode with a field emission cathode made of single-wall carbon nanotubes. The mechanical oscillations of the cathode accompanied by the periodic variations of the emission current intensity have been observed under the action of a constant voltage applied between the cathode and the anode of the diode. An empirical model of the phenomenon is proposed. It provides a qualitative agreement of the experimental results and the theoretical predictions. The modeling assuming a common behavior of the electromechanical systems with nano-sized mechanically flexible field emitters has been performed. It has demonstrated a dependence of the oscillation frequency value on the geometrical size of flexible emitters and on the value of voltage applied. This phenomenon opens a way for generation of the high frequency electromagnetic waves by using the electromechanical systems with emitters of nanometer size. © 2010 Elsevier Ltd. All rights ', 'Porous carbon beads were prepared from macroporous anion-exchange resin beads preliminary converted into resin-zeolite Beta composite or pure zeolite Beta spheres. Two synthesis procedures were used depending on the initial template employed. In a series of experiments, the resin from the resin-zeolite Beta composite was directly carbonized into carbon. In another series of experiments, the resin was removed by oxidation at 600 °C leaving behind self-bonded zeolite Beta beads, which were filled with carbon by chemical vapor deposition (CVD) of propylene. As a final step for both procedures, the zeolite was dissolved in hydrofluoric acid. All the carbons prepared inherited the macroscopic spherical shape of the template spheres as well as the morphology of the primary particles building up the beads. The synthesis procedure and the carbonization temperature or the temperature for CVD of carbon employed influenced the ordering and the pore structure of the produced carbons. The carbons prepared by direct carbonization showed relatively low surface areas, less than 1000 m2 g-1, and no zeolite structural regularity. The samples obtained via CVD maintained the zeolite ordering with a periodicity of 11.7 Å and had surface areas of over 2000 m2 g-1. © 2005 ', \"Adsorption of krypton at 77 K on fullerene C60, graphitized carbon black and nanocrystalline synthetic diamond has been investigated. The shape of the isotherm on nanocrystalline synthetic diamond indicates that the adsorption mechanism follows predominantly monolayer-multilayer adsorption. The isotherm on graphitized carbon black is characterized by a step-like form, at the lowest surface coverage the amount adsorbed obeying Henry's equation. The isotherm on fullerene is similar to that on graphitized carbon black in the low-pressure region. At relative pressures lower than 0.005, both isotherms have a sigmoidal shape, the only difference being that the cooperative build-up of the first layer ends at a lower coverage on fullerene. The comparison of isotherms on fullerene and graphitized carbon black has shown that krypton is adsorbed on both solids by the same mechanism at a surface coverage below 0.3. © 1999 Elsevier Science Ltd. All \", 'Adsorption enthalpies of sodium dodecyl sulphate onto a set of carbon blacks from aqueous solutions in the low concentration range are presented. The surfactant was found to adsorb on the carbon surface exothermally in the whole studied coverage. From the calorimetric results and the analysis of the adsorption isotherms by a double Langmuir equation, a model of the adsorption mechanism in these systems is suggested. The adsorption of the surfactant onto the carbon blacks can be explained by two energetically distinct steps corresponding to the adsorption of SDS in two different types of porosity. © 2004 Elsevier Ltd. All rights ', 'Shock-induced phase transitions of C70 fullerene are experimentally studied up to a pressure of 36 GPa and a temperature of 1200 K. Pressure-temperature histories of C70 specimens are estimated and overlaid on the tentative phase diagram of C70. The crystalline phase of fullerene C70 with a hexagonal close-packed structure remained practically unchanged under stepwise shock compression up to pressure of 8 GPa. Contrariwise the crystalline phase of fullerene C70 with a rhombohedral structure fully converted to the phase with a cubic structure under similar conditions. Shock-induced transformation of the hexagonal phase into the face-centered cubic phase was observed at pressures in the range of 2020-09-19 00:00:00 GPa. The amount of transformed material increases with the shock intensity. Upon further increase in the shock pressure, the destruction of C70 molecules begins. In the sample recovered from 26 GPa, we observed the traces of C70 with a face centered cubic structure only. The destruction of C70 is accompanied by formation of graphitic carbon. © ', '© 2019 Elsevier Ltd Temperature-dependent (T-dependent) Raman scattering can provide valuable informations on thermal properties, phonon anharmonicity and electron-phonon coupling of graphene-based materials. Graphene are found to exhibit extrinsic T-dependent Raman behavior at low temperature in vacuum or N2 gas, showing a behavior of heavily doped graphene. To obtain intrinsic properties of graphene-based materials, we focused on the comparative T-dependent Raman study on graphite and silicon in the temperature range of 4 K∼1000 K by different excitation lasers and different hot-stages or cryogenic stations. In contrast to the monotonic increase of full width at half maximum (FWHM) with temperature for the Si mode in silicon, FWHM for the G mode in graphite exhibits a minimum when T∼700K, which can be explained by the contributions from phonon anharmonicity and electron-phonon coupling. The result shows that the previous theoretical works underestimate the contribution from phonon anharmonicity above ∼ 600 K. The electron-phonon coupling strength of 0.026 is revealed, smaller than that of graphene. The peak position of G peak of graphite shows a nonlinear decrease with increasing temperature, which agrees well with the previous theoretical calculation. Our results find that the contribution of phonon anharmonicity to both peak position and FWHM is more prominent for the G mode in graphite than the ', '© 2019 Elsevier Ltd Interatomic potentials underpin many atomistic simulations and great effort is devoted to develop and benchmark potentials. In 2016 [Carbon 109, 681–693], we tested six common carbon potentials and compared their ability to describe disordered carbon structures. Here, we expand this study with eight additional potentials: AIREBO, REBO2-S, Erhart/Albe, ABOP, GAP, Tersoff-S, Tersoff/Nordlund and Tersoff with modified cutoff. Using molecular dynamics we produce and anneal amorphous carbon structures of different densities. Characterization using coordination analysis, ring statistics, radial distribution functions and diffraction intensity show that no two potentials give the same result. To address this lack of transferability, we have developed a web application tool, www.carbonpotentials.org which collates all carbon potentials and enables real-time and equivalent comparison. Unlike a traditional publication that is frozen in time, the tool is expandable and can accommodate new potentials ', 'Various magnetic nanostructures such as Fe nanoparticles (Fe-NPs) adhering to single-walled carbon nanotubes, carbon-encapsulated Fe-NPs, Fe-NP decorated multi-walled carbon nanotubes (MWCNTs), and Fe-filled MWCNTs have been synthesized by the pyrolysis of pure ferrocene. It is found that the formation of the nanostructures can be selectively controlled by simply adjusting the sublimation temperature of ferrocene, while keeping all other experimental parameters unchanged. Magnetic characterization reveals that these nanostructures have an enhanced coercivity, higher than that of bulk Fe at room temperature. Based on the experimental results, the formation mechanism of the nanostructures is discussed in detail. © 2008 Elsevier Ltd. All rights ', '© 2018 Elsevier Ltd Carbon nanotube (CNT) yarns are synthetic nanomaterials of interest for diverse applications. To bring fundamental understanding into the yarn formation process, we perform mesoscopic scale distinct element method (mDEM) simulations for the stretching of CNT networks. The parameters used by mDEM, including the mesoscale friction, are based on full atomistic results. By bridging across the atomistic and mesoscopic length scales, our model predicts accurately the mechanical response of the network over a large deformation range. At small and moderate deformations, the microstructural evolution is dominated by zipping relaxations directed along the applied strain direction. At larger deformations, the occurrence of energetic elasticity promotes yarn densification, by lowering CNT waviness and eliminating squashed pores. Next, by varying the mesoscopic dissipation as well as the network structure, we reveal that the mesoscale friction and film morphology are key factors for the yarn formation: While lack of friction compromises the strain-induced alignment process, phononic and polymeric friction promote CNT alignment by enabling load transfer and directed zipping relaxations, especially in networks containing long and entangled CNTs. Yarns drawn from cellular networks are shown instead to maintain high porosity, even with enhanced polymeric ', '© 2018 Elsevier Ltd Development of heterostructured photocatalysts that promotes charge separation of semiconductor materials is crucial towards efficient photocatalytic hydrogen evolution. Here nanodiamond (ND)@graphitic carbon nitride (g-C3N4) nanosheet heterostructures were synthesized via a facile one-step pyrolysis approach. The ND@g-C3N4 heterostructures exhibit enhanced photocatalytic activity for hydrogen evolution from water splitting as compared with pristine g-C3N4. The optimal heterostructures with 10 wt% ND loading content show the best performance in photocatalytic H2 evolution under visible light irradiation, which is more than 5.6 times higher than that of the pristine g-C3N4. The increased light-trapping induced by the scattering of the NDs promotes more localized charge carriers generation, which is clarified by the combined experimental results and finite difference time domain simulations. Meanwhile, the effective charge separation at the ND@g-C3N4 interface due to the energy level matching can synergistically induce the enhanced photocatalytic ', \"The adsorption of model aromatic compounds (aniline and nitrobenzene) on chemically tailored activated carbons has been systematically investigated. Adsorption experiments at controlled solution pH conditions confirmed that both electrostatic and dispersive adsorbate/adsorbent interactions can have a significant influence on the equilibrium uptakes of ionic and nonionic adsorbate species. For aniline (a weak electrolyte), maximum uptakes were found on oxidized carbon surfaces at solution pH near the adsorbate's point of zero charge (pHPZC). In contrast, nondissociating nitrobenzene uptakes were enhanced on heat-treated surfaces with graphene layers unperturbed by electron-withdrawing functional groups, particularly at solution pH ∼ pHPZC. A theoretical model that can successfully account for the observed trends is hereby proposed as a much needed predictor of the experimental conditions and adsorbent surface chemical properties that will maximize the uptake of aromatic compounds by activated carbons. © 1997 Elsevier Science \", 'Multi-walled carbon nanotubes (MWCNTs) were efficiently synthesized by catalytic combustion of polypropylene (PP) using nickel compounds (such as Ni2O3, NiO, Ni(OH)2 and NiCO3 · 2Ni(OH)2) as catalysts in the presence of organic-modified montmorillonite (OMMT) at 630-830 °C. Morphologies of the sample undergoing different combustion times were observed to investigate actual process producing MWCNTs by this method. The obtained MWCNTs were characterized by X-ray diffraction (XRD), transmission electron microscope and Raman spectroscopy. The yield of MWCNTs was affected by the composition of PP mixtures with OMMT and nickel compounds and the combustion temperature. The proton acidic sites from the degraded OMMT layers due to the Hoffman reaction of the modifiers at high temperature played an important role in the catalytic degradation of PP to supply carbon sources that are easy to be catalyzed by nickel catalyst for the growth of MWCNTs. The XRD measurements demonstrated that the nickel compounds were in situ reduced into the Ni(0) state with the aid of hydrogen gas and/or hydrocarbons in the degradation products of PP, and the Ni(0) was really the active site for the growth of MWCNTs. The combination of nickel compounds with OMMT was a key factor to efficiently synthesize MWCNTs via catalytic combustion of PP. © ', '© 2018 Elsevier Ltd A novel Al 4 C 3 nanorod was synthesized through an in situ reaction between graphene oxide (GO) and Al powders during laser powder bed fusion (L-PBF). The few-layer GO sheets were prepared by a modified Hummers method and were mixed with Al powders by electrostatic self-assembly. After subsequent L-PBF processing, the GO reacted with Al atoms completely to form Al 4 C 3 nanorods that had a mean diameter of ∼140 nm and length of ∼2.3 μm, displaying a higher aspect ratio than that made by traditional powder metallurgy. Observations of high-resolution transmission electron microscopy revealed that the Al 4 C 3 was monocrystalline and intimately contacted with the Al matrix, consequently resulting in the noticeably enhanced mechanical performance of the composite. This work may offer significant guidance for designing and ', '© 2017 Elsevier Ltd In the present paper, density functional theory calculations were carried out on a detailed oxygen reduction reaction (ORR) process catalysed by nitrogen-doped β-graphyne (βGy). Nitrogen-doping can increase the positive charge of the adjacent carbon atom and the graphyne work function, promoting O2 decomposition. Our calculations revealed that N-doped βGy can efficiently facilitate the ORR process via a four-electron mechanism, regardless of doping position. Additionally, our results revealed that the N doping site was essential for tuning the ORR catalytic activity. N1 doping was shown to more effectively promote the ORR than N2 doping. In addition, our research enhances the current understanding of catalytic activity at the molecular ', 'Adsorbent composite blocks for natural gas adsorption have been produced by mixing PX-21 and expanded natural graphite (ENG), followed by consolidation in a mould. These composite blocks of 10-30% weight ratio of expanded natural graphite and 430-480 kg m-3 apparent density have shown good methane adsorption capacities and good heat and mass transfer properties. Volumetric methane adsorption capacity (V/V) of adsorbent composite blocks produced is in the range of 110-125 V/V. Permeability increases with weight ratio of ENG, and thermal conductivity, in the range of 2020-02-10 00:00:00 W m-1 K-1, is much higher than activated carbon packed bed. These good transfer properties of the adsorbent composite blocks will enhance performances of on-board natural gas vehicles in terms of delivered methane volume under realistic dynamic conditions. © 2001 Elsevier Science Ltd. All ', \"© 2014 Elsevier Ltd. All rights reserved. In this work, we report a simple self-assembly way to prepare ceria/graphene oxide (CeO2/GO) composite films on silicon (Si) substrates, which exhibit significant enhancement on tribological performances compared with Si substrates and GO films. Specifically, the friction coefficient is reduced drastically to the one-third of that of Si substrates. What's more, the antiwear lifetime is markedly prolonged to ∼8 h under a high applied load of 2 N, which is over seven times longer than that of GO films. It is expected that the CeO2/GO composite films may find wide applications in nano/microelectromechanical systems as high-performance solid lubricating films, due to their facile and low cost preparation, nano-scale thickness, lower friction coefficient and desired \", 'The change in percolation threshold of carbon black/polymer composite using coupling treatment was discussed. The polymer composite filled with a conductive filler became electrically conductive once the volume fraction of CB exceeded a certain critical value. The hydroxyl groups were expected to form hydrogen bonds with silanol groups, hydrolyzed from methoxysilane in the coupling agent. The amine salts formed by the reaction of amine with carboxyl decreased the energy needed for charge carriers to hop from conducting clusters. Analysis shows that the percolation threshold arised at an low CB content even in the case of unblended matrix composites ', 'HRTEM study of several soot samples collected on Diesel Particulate Filters (DPF) under conditions relevant to practical applications of DPF technology, revealed nano-structure, to our knowledge, not reported previously for diesel soot. In particular, some of the primary particles were found to have hollow interior, and the outer shell exhibiting evidence of graphitization, with a higher crystallinity compared to the non-hollowed particles. The percentage of such particles varied between different soot samples and tentatively appeared to be related to the oxidation history of the sample. Remarkably, similar effect was not reproduced for a carbon black sample, Printex-U, suggesting that propensity to such oxidation-induced graphitization is related to the original nano-structure of the particle. These initial observations were independently confirmed for the same set of soot samples by two different HRTEM facilities, at NASA-Glenn and PNNL. © 2006 Elsevier Ltd. All rights ', '© 2019 Elsevier Ltd Structural defects on graphene has been deemed to originate from the growth process. Galvanic corrosion appears at defect sites between copper and graphene. Here, we report the self-assembly of a hydrophobic perfluorooctyltriethoxysilane (PTES) film that accurately heals the defects on graphene. The healing agent, PTES, was chemically grafted selectively on the copper substrate, which was exposed at the defect site. Interestingly, the novel method healed the defects on graphene without weakening its electronic properties. Moreover, significant improvement in corrosion resistance for graphene-coated copper was observed from the electrochemical tests and long-term storage under environmental ', 'We developed a novel method to produce graphene on silicon carbide (SiC) at a temperature as low as 1000 °C. The method is based on liquid phase growth (LPG) of graphene mediated by liquid gallium, which acts not only as a flux to store carbon dissolved from a surface of SiC when heated, but also as a catalyst to promote the formation of graphene on SiC when cooled. Our experimental results revealed that gallium-treated SiC substrates are coated with uniform and continuous graphene films. The LPG method is able to supply graphene films consisting of one to several hundreds of layers, depending on heating temperatures. Our approach can not only provide an alternative way to form graphene natively on SiC, but will also bring a technological breakthrough in industrial applications of graphene, e.g. the realization of graphene-on-insulator substrates. © 2012 Elsevier Ltd. All ', 'Carbon nanotubes prepared by thermal decomposition of acetylene on cobalt catalysts were investigated by scanning tunnelling microscopy (STM). One of the STM images revealed a nanotube with a diameter ca 1 nm getting over atomic steps on the (HOPG) graphite substrate on which the samples were deposited. The deformation and the stresses in this nanotube were evaluated from continuous-medium elasticity, using 2020-12-06 00:00:00 C-C pair potentials to describe the interaction with the substrate. A good agreement was found between the computed shape of the deformed nanotube and that revealed by the STM. The calculations also indicated that the stresses only slowly increased with increasing step height and, for that reason, a nanotube adsorbed on a surface can get over sharp steps a few nanometres high without breaking. This result attests to the high flexibility of the carbon nanotube. © 1998 Elsevier Science Ltd. ', 'Composites of an electronically conducting polymer (polypyrrole) with carbon black were used to reduce Cr(VI) to (the less toxic) Cr(III) in aqueous media. The carbon black content in these composites was varied from ∼ 5 to ∼ 0.65 (by weight); an increase in the carbon black fraction increased the ability of the composite to reduce Cr(VI). The composite outperformed both its components, namely polypyrrole and carbon black, in its ability to treat Cr(VI). The Cr(VI) conversion obeyed pseudo first-order kinetics. The mechanistic and practical implications of this new Cr(VI) pollution abatement approach are discussed. Copyright © 1996 ', \"The isosteric heat of adsorption in the Henry's law region is calculated as a function of the pore width for carbon single wall cylindrical nanopores and spherical nanocavities. The maximum isosteric heat of adsorption is obtained for six gas molecules: argon, methane, carbon dioxide, hydrogen, helium, and nitrogen. In addition, the results for cylindrical carbon nanopores are compared with adsorption data on single-wall carbon nanotubes from the literature. We find the pore width where the isosteric heat of adsorption is a maximum for both geometries. The effect of solid-fluid parameters on the pore diameter for the maximum isosteric heat of adsorption is determined for any system described by a Lennard-Jones potential. Constant relationships between the pore diameters for the maximum isosteric heat of adsorption and the specific solid-fluid parameters are found for cylindrical nanopores, spherical nanocavities, and parallel-wall slit-shaped pores. Surface mean curvature has a significant influence on the isosteric heat of adsorption. © 2009 Elsevier Ltd. All rights \", 'Carbon membranes were obtained by the carbonisation (700°C) of a thin phenolic resin film deposited on the inner face of porous alumina tubes. The carbon membranes were stored in different environments (air, nitrogen and propylene) and the modification of their separation properties (permeance and permselectivity) with time was analysed periodically. It was observed that with time membranes stored in air undergo severe gas permeance losses. By contrast permselectivities increase slightly. The gas permeance losses of carbon membranes stored under nitrogen are much lower with respect to those stored in air. Storage of carbon membranes in propylene has a positive effect on permeance whereas permselectivities decrease slightly. Attempts to recover the permeances of air-aged carbon membranes have demonstrated that they can only partially be regenerated by means of heat treatment. The results indicate that the use of carbon membranes to separate gas mixtures containing oxygen (i.e. air) shows serious problems whereas the separation of oxygen-free gas mixtures (i.e. olefin/paraffin, n-butane/i-butane, hydrogen/hydrocarbons, etc.) is a more reliable option. © 2001 Elsevier Science ', 'The present work describes a novel approach for the textural characterisation of a carbonaceous porous medium. Due to the electronic conduction properties of expanded natural graphite (ENG), electrochemical determination was proposed and the use of cyclic voltammetry enables determination of the surface area and porous volume of ENG. First, experiments were performed without the electrochemical electron transfer reaction. Then, the volume of the entire transformation of potassium hexacyanoferrate into the pores of the material was deduced by applying the rules of thin-layer electrochemistry. For the specific surface area and the porosity, the results are satisfying, but in comparison with classical methods, the electrochemical procedure does not allow the determination of the pore size distribution of the material. It is possible to evaluate the mean pore diameter and to assume that the double-layer capacitance may depend on the kind of graphite surface (basal or edge plane). © 2003 Elsevier Science Ltd. All rights ', 'High-surface-area (over 3000 m2 g-1) active carbon (MAXSORB) was developed from a mixture of petroleum coke and an excess amount of potassium hydroxide. A considerable number (0.9-1.6 meq g-1) of surface functional groups were found compared to that of typical steam activated carbons (0.1-0.2 meq g-1). Breakthrough of sodium hypochlorite or chloroform was studied using model drinking water at 25°C, containing about 2 ppm of NaClO or 50 ppb of CHCl3. Regardless of the amount of surface functional groups, the performance of NaClO decomposition for MAXSORB was proportional to the BET surface area and reached a value of two to three times more than the typical steam activated carbon. There was an optimum BET surface area for CHCl3 removal, which was improved greatly by removing surface functional groups by heat treatment at 700°C. © ', 'Microwave irradiation can be efficient used as energy source in fullerene chemistry. In the wide range of reactions that have been performed, important improvements have been achieved: drastic reductions in reaction times; general improvements of yields in isolated products; reduction in decomposition of products; and efficient control of the reaction when polyadducts are possible ', 'Carbon/carbon composites were prepared with ribbon-shape pitch-based carbon fibers serving as reinforcement and thermosetting PFA resin and thermoplastic pitch as matrix precursors. The composites were heat treated to 1000, 1600 and 2700 °C. Microstructural transformations taking place in the reinforcement, carbon matrix, and the interface were studied using polarized optical and scanning electron microscopy. The fiber/matrix bond and ordering of the carbon matrix in heat-treated composites was found to vary depending on the heat treatment temperature of the fibers. Stabilized fiber cleaved during carbonization of resin-derived composites. In contrast, fibers retain their shape during carbonization of pitch matrix composites. Optical activity was observed in composites made with carbonized fibers; the extent decreases with increased heat treatment of the fibers. Studies at various heat treatment temperatures indicate that ribbon-shape fibers developed ordered structure at 1600 °C when co-carbonized with thermosetting resin or thermoplastic pitches. © 2003 Elsevier Science ', \"Soot may be formed when carbonaceous fuels are burned under local reducing conditions. Its subsequent oxidation is of great significance for pollution control in industrial flames, auto engines etc. Oxidation (gasification) can be achieved with oxygen, carbon dioxide, water vapour or nitrogen dioxide. In this review, the experimental techniques which have been used to study the gasification of soot are described and the methods and results obtained by analysis of the data from them are considered. Firstly, the mechanism of soot formation and its structure are briefly discussed. The various scales of particulate which comprise it, i.e. spherule, particle and aggregate, influence its properties and behaviour. Next, the experimental equipment used in the study of its gasification is briefly described. Gasification kinetics at low temperatures are measured either in fixed beds or by thermogravimetry. The apparatus may be operated as a thermally programmed desorption system to identify the species involved. High temperature investigations have been carried out in entrainment burners and shock tubes. The chemistry of soot oxidation is discussed for both non-catalytic and catalytic conditions. The oxidation pathway involves interaction between adsorption and desorption processes, which determine the primary products, the order of reaction and the activation energy. The concensus is that two types of adsorbed surface species are present in uncatalysed combustion. The combustion mechanism of individual spherules is considered in terms of basic property changes. During thermogravimetry, the influence of the competition between reaction and oxygen diffusion in soot beds is analysed. The reaction of catalysed soot displays a different mechanism, as the primary products, the order of reaction and the activation energy all change. The lower activation energy and higher reactivity lead to lower ignition temperatures. Catalysts may be incorporated into the soot spherules by addition to the fuel, or may be added after formation. Two types of contact between the carbon and added catalyst have been identified, loose' and tight'. Tight catalyst, which has been mechanically ground with the soot, produces more pronounced effects. Finally, the behaviour of soot during gasification by other oxidants, namely H2O, CO2 and NO2 is summarised. © 2001 Elsevier Science Ltd. All rights \", 'A consolidated composite reactive bed for refrigeration sorption systems made from expanded graphite powder impregnated with CaCl2 was produced and tested. The composite material was compressed under a pressure of 10 MPa to enhance its heat transfer properties. Experimental results showed that this material could incorporate 0.9 kg of NH3 per kg of salt and that the agglomeration phenomenon was avoided. The blocks with apparent density of 0.56 g cm-3 and 0.35 of expanded graphite ensured a good refrigerant mass transfer with a negligible pressure drop between the inner and outer part of the blocks. However, the heat transfer still need some improvements, as the temperature difference inside the blocks could reach 15 °C during the decomposition phase. The average specific cooling power during the synthesis phase was 306 and 194 W per kg of salt at the average evaporation temperatures of -2.7 and -18.3 °C, respectively. The calculated coefficient of performance under different generation temperatures and global conversions ranged from 0.28 to 0.46, and it was not very sensitive to the increase ', 'The surface compositional and any structural changes that occur on carbon nanotubes using air-atmospheric pressure dielectric barrier discharge (APDBD) for functionalization are investigated employing Raman spectroscopy, X-ray photoelectron spectroscopy (XPS), thermal gravimetric analysis (TGA), X-ray diffraction (XRD), and neutron diffraction techniques. Atmospheric pressure plasmas (APP) are suggested to be particularly suitable for functionalization of aligned nanotubes, where wet chemical manipulation could damage or even destroy the highly desirable vertical alignment. In this work a detailed experimental study elucidating the effects of APDBD plasma treatment parameters (e.g. power density, discharge composition, inter-electrode gap and treatment time) on the electronic structure, physical, and chemical behaviour of carbon nanotubes has been conducted. In an atmospheric air we find an optimal oxidative functionalization of CNTs in our DBD system within few seconds (<5 s) at a discharge power of ∼0.5 kW. This investigation may find useful application as functionalization technique for CNT engineered devices and sensors. © 2005 Elsevier Ltd. All rights ', 'Band structure calculations show that carbon nanotubes exist as either metals or semiconductors, depending on diameter and degree of helicity. When the diameters of the nanotubes become comparable to the electron wavelength, the band structure becomes noticeably one-dimensional. Scanning tunneling microscopy and spectroscopy data on nanotubes with outer diameters from 2 to 10 nm show evidence of one-dimensional behavior: the current-voltage characteristics are consistent with the functional energy dependence of the density-of-states in 1D systems. The measured energy gap values vary linearly with the inverse nanotube diameter. Electrical resistivity and magnetoresistance measurements have been reported for larger bundles, and the temperature dependence of the electrical resistance of a single microbundle was found to be similar to that of graphite and its magnetoresistance was consistent with the formation of Landau levels. Magnetic susceptibility data taken on bundles of similar tubes reveal a mostly diamagnetic behavior. The susceptibility at fields above the value at which the magnetic length equals the tube diameter has a graphite-like dependence on temperature and field. At low fields, where electrons sample the effect of the finite tube diameter, the susceptibility has a much more pronounced temperature ', '© 2016 Elsevier Ltd Despite significant efforts to develop ways to produce customized carbon-based nanostructures, facile synthesis of mass graphene/graphitic nanoribbons (GNRs) without losing the intrinsic sp2-structure and properties remains challenging. Here we report that bulk of multi-layered graphitic nanoribbons can be prepared by gas-phase oxidative splitting of multi-walled carbon nanotubes (MWCNTs) using HNO3 vapor. The longitudinal splitting behavior of MWCNTs is substantially dependent on three key factors: the utilization of gaseous oxidant, the use of highly-crystallined carbon nanotubes with larger diameter, and the associated high-pressure conditions. Moreover, this splitting process is evidenced to be edge-selective and nonaggressive as opposed to traditional wet chemical oxidation, for which the obtained GNRs show minimized oxidation level, highly intact crystalline and robust electrical conductance. This study suggests a simple yet effective strategy for producing mass high-quality ', '© 2018 Visualization of dispersion is a challenging and unresolved issue for high aspect ratio nanofillers, such as surface-modified graphene oxide (mGO) and carbon nanotubes, in fiber reinforced polymer (FRP) composites. Conventional metrologies to study dispersion (location, spacing, size, etc.) have proven difficult and impractical when the fibers are present, particularly at the industrially-relevant, low mass fractions of nanofillers. Here, Raman spectroscopy and imaging are exploited to investigate the dispersion of mGO in unsaturated polyester (UP) resin composites both with and without glass microfiber reinforcement. Through comparative TEM and Raman maps on the same sample area, we validate a detailed Raman methodology to detect mGO agglomerate positions, even at low loadings of < 0.1 % by mass, where the sensitivity of the mGO Raman signal is dependent on incident laser wavelength. More importantly, we expand this to FRP composites, where by a proper choice of incident wavelength to avoid glass fiber fluorescence, Raman imaging is able to identify surface (2D) and sub-surface (3D) mGO microstructures near microfibers in the inter- and intralaminar regions. This measurement technique will find significant use in the FRP composite community as a readily available method to qualitatively correlate dispersion properties to processing techniques and/or ', 'The effect of a hot isostatic pressing (HIP) treatment on glass-like carbon (GC) was investigated by a small-angle X-ray scattering (SAXS) method. The sample was prepared from phenol-formaldehyde resin at 1700°C and then HIP-treated at 2500°C at 200 MPa in inert gas atmosphere. The structure change in pores was expected, because the bulk density of the HIP-treated GC is higher than those of untreated GCs. In order to contrast the HIP-treatment effect, SAXS measurements on untreated GCs were also carried out. The scattering intensity from the HIP-treated GC was weaker than that from the GC which was heat-treated only at the same temperature 2500°C. On the other hand, the distance distribution function (DDF) analysis showed that the sizes and shapes of nanopores for the both GCs are almost the same. It was proved that the HIP process contributes to not reducing the size but decreasing the number of nanopores in the GC. The facts suggest that the size of uncrushed nanopores will be the minimum o ne for each heat-treated GC. © 2001 Elsevier Science Ltd. All ', '© 2020 Elsevier Ltd The theoretically predicted plasmon energy in doped carbon nanotubes overestimates the observed value by more than 10%. We find that an environment with finite conductivity reduces both the plasmon energy and lifetime, which also accounts for an experimental indication that the plasmon is invisible when a specific substance is used to dope nanotubes. We grasp the mechanism by calculating the change in the surface plasmon dispersions for graphene with conductive ', '© 2015 Elsevier Ltd. Hydrogels can efficiently separate metallic and semiconducting single-wall carbon nanotube (SWCNT) species at high rates by selective adsorption in a column configuration, but mechanistic details remain unclear. We examined the temperature dependence of SWCNT adsorption in an operating column using a model that considers the formation of an activated complex. The enthalpy and entropy changes associated with formation of the activated complex were determined. Due to a high sensitivity to protonation doping, large diameter pulsed laser vaporization tubes provided an opportunity to probe details of the adsorption mechanism. In contrast to the prevailing view in the literature, we conclude that the surfactant environment surrounding the nanotube is substantially reorganized upon adsorption and that adsorption also occurs within gel pores. Our findings provide new mechanistic insights that should assist in the development of improved separation ']\n"
     ]
    }
   ],
   "source": [
    "token_stringlist = []\n",
    "tokens, labels = extract_xy_(df)\n",
    "\n",
    "for paper_tokens in tokens:\n",
    "    paper_string = \"\"\n",
    "    for i in paper_tokens:\n",
    "        paper_string += (str(i) + \" \")\n",
    "    token_stringlist.append(paper_string)\n",
    "    \n",
    "# for paper_labels in labels:\n",
    "#     label_string = \"\"\n",
    "#     for i in paper_labels:\n",
    "#         print(i)\n",
    "#         label_string += (str(i) + \" \")\n",
    "#     label_stringlist.append(label_string)\n",
    "# print(label_stringlist)\n",
    "#print(token_stringlist)"
   ]
  },
  {
   "cell_type": "code",
   "execution_count": 147,
   "metadata": {},
   "outputs": [
    {
     "data": {
      "text/plain": [
       "'X-ray photoelectron spectroscopy (XPS) has been commonly used to determine the nitrogen-containing functional groups of graphene. However, reported assignments of C1s shifts of nitrogen-containing functional groups are unclear. Most works discuss peak shifts of only N1s spectra and C1s shifts and the full width at half maximum (FWHM) are excluded. Thus, peak shifts and FWHMs of C1s and N1s XPS spectra of graphene with nitrogen-containing functional groups such as pyridinic, phenanthroline-like, sp2C-NH2, sp 3C-NH2, pyrrolic, imine, pyridazine-like, pyrazole-like, sp2C-CN, sp3C-CN, and valley quaternary nitrogen (Q-N) on edges and sp3C-NH2, center amine, and center Q-N in the basal plane were simulated using density functional theory calculation. Main peaks of C1s spectra were shifted positively and negatively by the electron-withdrawing and electron-donating functional groups, respectively. FWHMs of the main peaks of C1s spectra were influenced by mainly electron-withdrawing functional groups on edges and most functional groups in the basal plane. Sp2C-NH2 on zigzag edges is suggested as a reference functional group to adjust the N1s spectra because influence of the functional group on the shift of main peak and the FWHM of C1s spectrum was small. © 2013 Elsevier Ltd. All rights '"
      ]
     },
     "execution_count": 147,
     "metadata": {},
     "output_type": "execute_result"
    }
   ],
   "source": [
    "token_stringlist[1]"
   ]
  },
  {
   "cell_type": "code",
   "execution_count": null,
   "metadata": {},
   "outputs": [],
   "source": []
  },
  {
   "cell_type": "code",
   "execution_count": 151,
   "metadata": {
    "collapsed": true,
    "jupyter": {
     "outputs_hidden": true
    }
   },
   "outputs": [
    {
     "data": {
      "text/plain": [
       "['In the interaction between gas molecules with single-walled carbon nanotube (SWCNT) we show that as a result of collisions the gas scattering contributes with an important background signal and should be considered in SWCNT-based gas sensors. Experimental evidence of the collision-induced tube wall deformation is demonstrated using in situ X-ray absorption near-edge structure spectroscopy. Results support the occurrence of the scattering process and show how gas collisions may affect the electronic structure of SWCNTs. © 2010 Elsevier ',\n",
       " 'X-ray photoelectron spectroscopy (XPS) has been commonly used to determine the nitrogen-containing functional groups of graphene. However, reported assignments of C1s shifts of nitrogen-containing functional groups are unclear. Most works discuss peak shifts of only N1s spectra and C1s shifts and the full width at half maximum (FWHM) are excluded. Thus, peak shifts and FWHMs of C1s and N1s XPS spectra of graphene with nitrogen-containing functional groups such as pyridinic, phenanthroline-like, sp2C-NH2, sp 3C-NH2, pyrrolic, imine, pyridazine-like, pyrazole-like, sp2C-CN, sp3C-CN, and valley quaternary nitrogen (Q-N) on edges and sp3C-NH2, center amine, and center Q-N in the basal plane were simulated using density functional theory calculation. Main peaks of C1s spectra were shifted positively and negatively by the electron-withdrawing and electron-donating functional groups, respectively. FWHMs of the main peaks of C1s spectra were influenced by mainly electron-withdrawing functional groups on edges and most functional groups in the basal plane. Sp2C-NH2 on zigzag edges is suggested as a reference functional group to adjust the N1s spectra because influence of the functional group on the shift of main peak and the FWHM of C1s spectrum was small. © 2013 Elsevier Ltd. All rights ',\n",
       " 'A new air electrode using a combination of dual functional silver/manganese dioxide catalysts based on single-walled carbon nanotubes (SWNTs) was developed by chemically reducing silver permanganate with hydrazine. The electrode prepared comprises a high-quality carbon nanotube support with a complex of manganese dioxide and silver catalysts. The electrocatalytical activity of the electrode was examined via a variety of electrochemical testing techniques. Higher electrocatalytical activity for the oxygen reduction reaction and better performance of the zinc air cell, as compared with the catalysts supported on mesocarbon microbeads (MCMB) or commercial graphite, was achieved. © 2004 Elsevier Ltd. All rights ',\n",
       " '© 2016 Elsevier Ltd The filling of single-walled carbon nanotube films with 1-adamantanemethanol and 1-bromoadamantane molecules was carried out by a gas-phase procedure. Optical absorption and Raman spectroscopies revealed the effects of charge transfer for samples treated with 1-bromoadamantane. Using density functional simulations we show that the charge transfer takes place when bromine is detached from the carbon cage and accepts electrons as free-standing atoms or as polybromide structures. Transmission electron microscope images confirm the presence of individual bromine atoms inside carbon nanotubes, treated with 1-bromoadamantane molecules. The observed charge transfer is, therefore, a marker of the dehalogenization reaction, a critical step in the synthesis process of narrow 1D sp3 ',\n",
       " 'The bulk chemistry of commercial carbon blacks and carbon blacks obtained by vacuum pyrolysis (CBp) of used tires was investigated by 13C-NMR spectroscopy with and without magic angle spinning of the sample. Two different kinds of carbon atoms can be distinguished: Graphite like carbon atoms in poly-condensed aromatic rings and carbon atoms in a less ordered environment. Commercial carbon blacks and CBp obtained under different pyrolysis conditions have practically the same concentrations of the different types of carbon atoms in the bulk, whereas earlier ESCA and SIMS investigations have shown that the surface chemistry of CBp is different from commercial carbon blacks and depends strongly on the pyrolysis conditions. Thus, during the pyrolysis only the carbon black surface chemistry is changed. The carbon black bulk structure was also studied by X-ray diffraction. The XRD results, including the radial distribution function (RDF) indicated, in agreement with the NMR results, that the bulk structure of commercial carbon blacks and of CBp are similar ',\n",
       " 'In this work we study the carbonization resulting from an intumescence phenomenon of the fire-retardant formulation: ethylene terpolymer-ammonium polyphosphate/pentaerythritol. Characterisation of the intumescent coating is carried out using infrared spectroscopy and MAS-NMR of the solid state. The study shows the formation of organic phosphocarbonaceous esters, which limits depolymerisation or the evolution of gaseous hydrocarbons. These esters prevent the development of condensed polyaromatic structures. These latter are bridged by the polyethylenic links, which provide the mechanical properties of interest in the protective shield. © ',\n",
       " 'Here we describe synthesis of very unusual multi-walled carbon nanotubes through a catalytic chemical vapor deposition method using a floating reactant method and subsequent thermal treatment up to 2600 °C in a large quantity. Main characteristics of these nanotubes are -1 relatively wide distribution of diameters ranging from 20 to 70 nm and linear, long macro-morphology (aspect ratio >100), -2 highly straight and crystalline layers, -3 high purity through removal of metallic impurity, -4 very low interlayer spacing (0.3385 nm) and low R value (ID/IG nan 0.0717), -5 high G′ intensity over intensity of G band (G′/G nan 0.85) and strongly negative magnetoresistance value of -0.0108 at 77 K and 1 T. The unusual microstructure of thin multi-walled carbon nanotubes with a partially facetted cross-sectional shape caused by thermal treatment is mainly ascribed to abrupt density changes (from 1.89 to 2.1 g/cm3) within ',\n",
       " 'Two-dimensional carbon nanostructures have been produced via flame synthesis. Flame conditions and sampling methods have been optimized for the collection of the carbon nanostructures and for their characterization. Atomic Force Microscopy, Differential Mobility Analysis and Raman spectroscopy have been used to characterize the morphology and the chemical composition of these carbon nanostructures. Results show that a network of aromatic compounds connected by non-aromatic bonding arrange to form bi-dimensional structures that assume an atomically thin disk-like shape when deposited on a substrate. The in plane lateral dimension is of the order of tens of nanometers, and the height of about 3 Å. In spite of a significant amount of disorder, Raman spectroscopy evidences that lattice distortion is not very large in these flame nano-disks. © 2013 Elsevier Ltd. All ',\n",
       " '© 2017 Elsevier Ltd The earliest stages of soot formation in flames are believed to involve the formation of small, nanoscale clusters of polycyclic aromatic hydrocarbon molecules. The structure of these clusters is still highly uncertain, however, impeding the construction of quantitative models of soot inception and growth. To provide insight into the structure of incipient soot, we produced nanoclusters of hydrocarbon molecules by annealing coronene films deposited on Pt(111), and examined them with scanning tunneling microcopy. We find that clusters containing ∼20–100 molecules, are disordered agglomerations of stacks that are ∼5–6 molecules tall. These structures are quite distinct from crystalline coronene, but bear a striking resemblance to recently proposed models for the equilibrium structure of similarly-sized clusters that are assumed to initiate soot formation. In contrast to mature soot, the surfaces of these clusters contain very few molecules with graphitic planes oriented parallel to the ',\n",
       " 'Previously reported research, demonstrating a role of adsorbed molecular oxygen in the reaction of ozone with soot particles and in their hydration, has been extended to explore the interaction between O2 and SO2, O3, H2O, NH3, NO2 and NO at the soot surface as well as the effect of these adsorbates on each other. Electron paramagnetic resonance (EPR) and microgravimetry have revealed the extent of interactions between some competing reactants on soot. EPR has been used as a probe of the surface behavior of paramagnetic species (O2, NO2, NO) through their effect on the intensity of a large signal which is the result of the high concentration of unpaired electrons in soots. The effects of diamagnetic reactants (H2O, NH3, SO2) also are measured through their influence on the paramagnetic adsorbates and thus on the EPR signal. Microgravimetric measurements of adsorption and changes in the mass resulting from surface reactions also have enabled interpretations of the behavior of reactants on soot particles. Details of the modes of adsorption of SO2, NO2 and NH3 on n-hexane soot have emerged from these measurements as well. © 1998 Elsevier Science Ltd. All rights ',\n",
       " 'Iron benzoate and naphthoate were studied as catalyst precursors of an iron-catalyzed pyrolysis of a coal-tar pitch as a technical hydrocarbon mixture and of anthracene as an aromatic model compound. The results are compared with those obtained with ferrocene, which has been studied previously. Both iron compounds are decomposed by formation of iron clusters at a much lower temperature than ferrocene. For this reason the catalytic effect of iron is found at shorter reaction times and particularly at lower temperatures. Anthracene is converted to a semi-coke at temperatures as low as 444 °C. In pitch pyrolysis, the catalytic activity of iron is limited, because the iron is poisoned by formation of iron sulfides. With iron benzoate, but not with iron naphthoate, the nucleation and growth of mesophase spheres is strongly influenced. Spherulites are nearly equal in size and have a reduced tendency to coalesce up to very high spherulite content. The surface of the spheres is disturbed by segregated material containing iron sulfide. Similar results were also found with ferrocene. ',\n",
       " 'The preparation of microporous activated carbon from coconut shells without activating agents was studied. An adiabatic expansion at the state of thermal degradation followed by carbonization was used to create a microporous structure of activated carbon. It was found that although the specific surface area was not high, such activated carbon had a narrow distribution of pore size in the range, possibly less than 1 ',\n",
       " 'Active carbons containing up to 0.045 nitrogen (SCN-type carbons) were prepared by carbonization in argon and steam activation of a vinylpyridine resin. The porous structure of the SCN carbons with different burn-off values was characterized by gas adsorption (N2 and CO2), mercury porosimetry and helium pycnometry. The SCN carbons exhibit micro- and mesoporosities, which may be regulated. By microcalorimetric and water adsorption methods it was shown, that SCN carbons present a higher surface polarity than carbons without nitrogen. The nitrogen atoms in the carbon structure behave as polar sites. The nitrogen chemistry investigated by XPS analysis is discussed. The nitrogen chemical functions in SCN carbons are transformed during heat treatment. In the char obtained at 1223 K and samples of activated carbons, the nitrogen is present in the six-membered rings of the ',\n",
       " 'We report the observation of the electromechanical self-oscillations excited in a vacuum diode with a field emission cathode made of single-wall carbon nanotubes. The mechanical oscillations of the cathode accompanied by the periodic variations of the emission current intensity have been observed under the action of a constant voltage applied between the cathode and the anode of the diode. An empirical model of the phenomenon is proposed. It provides a qualitative agreement of the experimental results and the theoretical predictions. The modeling assuming a common behavior of the electromechanical systems with nano-sized mechanically flexible field emitters has been performed. It has demonstrated a dependence of the oscillation frequency value on the geometrical size of flexible emitters and on the value of voltage applied. This phenomenon opens a way for generation of the high frequency electromagnetic waves by using the electromechanical systems with emitters of nanometer size. © 2010 Elsevier Ltd. All rights ',\n",
       " 'Porous carbon beads were prepared from macroporous anion-exchange resin beads preliminary converted into resin-zeolite Beta composite or pure zeolite Beta spheres. Two synthesis procedures were used depending on the initial template employed. In a series of experiments, the resin from the resin-zeolite Beta composite was directly carbonized into carbon. In another series of experiments, the resin was removed by oxidation at 600 °C leaving behind self-bonded zeolite Beta beads, which were filled with carbon by chemical vapor deposition (CVD) of propylene. As a final step for both procedures, the zeolite was dissolved in hydrofluoric acid. All the carbons prepared inherited the macroscopic spherical shape of the template spheres as well as the morphology of the primary particles building up the beads. The synthesis procedure and the carbonization temperature or the temperature for CVD of carbon employed influenced the ordering and the pore structure of the produced carbons. The carbons prepared by direct carbonization showed relatively low surface areas, less than 1000 m2 g-1, and no zeolite structural regularity. The samples obtained via CVD maintained the zeolite ordering with a periodicity of 11.7 Å and had surface areas of over 2000 m2 g-1. © 2005 ',\n",
       " \"Adsorption of krypton at 77 K on fullerene C60, graphitized carbon black and nanocrystalline synthetic diamond has been investigated. The shape of the isotherm on nanocrystalline synthetic diamond indicates that the adsorption mechanism follows predominantly monolayer-multilayer adsorption. The isotherm on graphitized carbon black is characterized by a step-like form, at the lowest surface coverage the amount adsorbed obeying Henry's equation. The isotherm on fullerene is similar to that on graphitized carbon black in the low-pressure region. At relative pressures lower than 0.005, both isotherms have a sigmoidal shape, the only difference being that the cooperative build-up of the first layer ends at a lower coverage on fullerene. The comparison of isotherms on fullerene and graphitized carbon black has shown that krypton is adsorbed on both solids by the same mechanism at a surface coverage below 0.3. © 1999 Elsevier Science Ltd. All \",\n",
       " 'Adsorption enthalpies of sodium dodecyl sulphate onto a set of carbon blacks from aqueous solutions in the low concentration range are presented. The surfactant was found to adsorb on the carbon surface exothermally in the whole studied coverage. From the calorimetric results and the analysis of the adsorption isotherms by a double Langmuir equation, a model of the adsorption mechanism in these systems is suggested. The adsorption of the surfactant onto the carbon blacks can be explained by two energetically distinct steps corresponding to the adsorption of SDS in two different types of porosity. © 2004 Elsevier Ltd. All rights ',\n",
       " 'Shock-induced phase transitions of C70 fullerene are experimentally studied up to a pressure of 36 GPa and a temperature of 1200 K. Pressure-temperature histories of C70 specimens are estimated and overlaid on the tentative phase diagram of C70. The crystalline phase of fullerene C70 with a hexagonal close-packed structure remained practically unchanged under stepwise shock compression up to pressure of 8 GPa. Contrariwise the crystalline phase of fullerene C70 with a rhombohedral structure fully converted to the phase with a cubic structure under similar conditions. Shock-induced transformation of the hexagonal phase into the face-centered cubic phase was observed at pressures in the range of 2020-09-19 00:00:00 GPa. The amount of transformed material increases with the shock intensity. Upon further increase in the shock pressure, the destruction of C70 molecules begins. In the sample recovered from 26 GPa, we observed the traces of C70 with a face centered cubic structure only. The destruction of C70 is accompanied by formation of graphitic carbon. © ',\n",
       " '© 2019 Elsevier Ltd Temperature-dependent (T-dependent) Raman scattering can provide valuable informations on thermal properties, phonon anharmonicity and electron-phonon coupling of graphene-based materials. Graphene are found to exhibit extrinsic T-dependent Raman behavior at low temperature in vacuum or N2 gas, showing a behavior of heavily doped graphene. To obtain intrinsic properties of graphene-based materials, we focused on the comparative T-dependent Raman study on graphite and silicon in the temperature range of 4 K∼1000 K by different excitation lasers and different hot-stages or cryogenic stations. In contrast to the monotonic increase of full width at half maximum (FWHM) with temperature for the Si mode in silicon, FWHM for the G mode in graphite exhibits a minimum when T∼700K, which can be explained by the contributions from phonon anharmonicity and electron-phonon coupling. The result shows that the previous theoretical works underestimate the contribution from phonon anharmonicity above ∼ 600 K. The electron-phonon coupling strength of 0.026 is revealed, smaller than that of graphene. The peak position of G peak of graphite shows a nonlinear decrease with increasing temperature, which agrees well with the previous theoretical calculation. Our results find that the contribution of phonon anharmonicity to both peak position and FWHM is more prominent for the G mode in graphite than the ',\n",
       " '© 2019 Elsevier Ltd Interatomic potentials underpin many atomistic simulations and great effort is devoted to develop and benchmark potentials. In 2016 [Carbon 109, 681–693], we tested six common carbon potentials and compared their ability to describe disordered carbon structures. Here, we expand this study with eight additional potentials: AIREBO, REBO2-S, Erhart/Albe, ABOP, GAP, Tersoff-S, Tersoff/Nordlund and Tersoff with modified cutoff. Using molecular dynamics we produce and anneal amorphous carbon structures of different densities. Characterization using coordination analysis, ring statistics, radial distribution functions and diffraction intensity show that no two potentials give the same result. To address this lack of transferability, we have developed a web application tool, www.carbonpotentials.org which collates all carbon potentials and enables real-time and equivalent comparison. Unlike a traditional publication that is frozen in time, the tool is expandable and can accommodate new potentials ',\n",
       " 'Various magnetic nanostructures such as Fe nanoparticles (Fe-NPs) adhering to single-walled carbon nanotubes, carbon-encapsulated Fe-NPs, Fe-NP decorated multi-walled carbon nanotubes (MWCNTs), and Fe-filled MWCNTs have been synthesized by the pyrolysis of pure ferrocene. It is found that the formation of the nanostructures can be selectively controlled by simply adjusting the sublimation temperature of ferrocene, while keeping all other experimental parameters unchanged. Magnetic characterization reveals that these nanostructures have an enhanced coercivity, higher than that of bulk Fe at room temperature. Based on the experimental results, the formation mechanism of the nanostructures is discussed in detail. © 2008 Elsevier Ltd. All rights ',\n",
       " '© 2018 Elsevier Ltd Carbon nanotube (CNT) yarns are synthetic nanomaterials of interest for diverse applications. To bring fundamental understanding into the yarn formation process, we perform mesoscopic scale distinct element method (mDEM) simulations for the stretching of CNT networks. The parameters used by mDEM, including the mesoscale friction, are based on full atomistic results. By bridging across the atomistic and mesoscopic length scales, our model predicts accurately the mechanical response of the network over a large deformation range. At small and moderate deformations, the microstructural evolution is dominated by zipping relaxations directed along the applied strain direction. At larger deformations, the occurrence of energetic elasticity promotes yarn densification, by lowering CNT waviness and eliminating squashed pores. Next, by varying the mesoscopic dissipation as well as the network structure, we reveal that the mesoscale friction and film morphology are key factors for the yarn formation: While lack of friction compromises the strain-induced alignment process, phononic and polymeric friction promote CNT alignment by enabling load transfer and directed zipping relaxations, especially in networks containing long and entangled CNTs. Yarns drawn from cellular networks are shown instead to maintain high porosity, even with enhanced polymeric ',\n",
       " '© 2018 Elsevier Ltd Development of heterostructured photocatalysts that promotes charge separation of semiconductor materials is crucial towards efficient photocatalytic hydrogen evolution. Here nanodiamond (ND)@graphitic carbon nitride (g-C3N4) nanosheet heterostructures were synthesized via a facile one-step pyrolysis approach. The ND@g-C3N4 heterostructures exhibit enhanced photocatalytic activity for hydrogen evolution from water splitting as compared with pristine g-C3N4. The optimal heterostructures with 10 wt% ND loading content show the best performance in photocatalytic H2 evolution under visible light irradiation, which is more than 5.6 times higher than that of the pristine g-C3N4. The increased light-trapping induced by the scattering of the NDs promotes more localized charge carriers generation, which is clarified by the combined experimental results and finite difference time domain simulations. Meanwhile, the effective charge separation at the ND@g-C3N4 interface due to the energy level matching can synergistically induce the enhanced photocatalytic ',\n",
       " \"The adsorption of model aromatic compounds (aniline and nitrobenzene) on chemically tailored activated carbons has been systematically investigated. Adsorption experiments at controlled solution pH conditions confirmed that both electrostatic and dispersive adsorbate/adsorbent interactions can have a significant influence on the equilibrium uptakes of ionic and nonionic adsorbate species. For aniline (a weak electrolyte), maximum uptakes were found on oxidized carbon surfaces at solution pH near the adsorbate's point of zero charge (pHPZC). In contrast, nondissociating nitrobenzene uptakes were enhanced on heat-treated surfaces with graphene layers unperturbed by electron-withdrawing functional groups, particularly at solution pH ∼ pHPZC. A theoretical model that can successfully account for the observed trends is hereby proposed as a much needed predictor of the experimental conditions and adsorbent surface chemical properties that will maximize the uptake of aromatic compounds by activated carbons. © 1997 Elsevier Science \",\n",
       " 'Multi-walled carbon nanotubes (MWCNTs) were efficiently synthesized by catalytic combustion of polypropylene (PP) using nickel compounds (such as Ni2O3, NiO, Ni(OH)2 and NiCO3 · 2Ni(OH)2) as catalysts in the presence of organic-modified montmorillonite (OMMT) at 630-830 °C. Morphologies of the sample undergoing different combustion times were observed to investigate actual process producing MWCNTs by this method. The obtained MWCNTs were characterized by X-ray diffraction (XRD), transmission electron microscope and Raman spectroscopy. The yield of MWCNTs was affected by the composition of PP mixtures with OMMT and nickel compounds and the combustion temperature. The proton acidic sites from the degraded OMMT layers due to the Hoffman reaction of the modifiers at high temperature played an important role in the catalytic degradation of PP to supply carbon sources that are easy to be catalyzed by nickel catalyst for the growth of MWCNTs. The XRD measurements demonstrated that the nickel compounds were in situ reduced into the Ni(0) state with the aid of hydrogen gas and/or hydrocarbons in the degradation products of PP, and the Ni(0) was really the active site for the growth of MWCNTs. The combination of nickel compounds with OMMT was a key factor to efficiently synthesize MWCNTs via catalytic combustion of PP. © ',\n",
       " '© 2018 Elsevier Ltd A novel Al 4 C 3 nanorod was synthesized through an in situ reaction between graphene oxide (GO) and Al powders during laser powder bed fusion (L-PBF). The few-layer GO sheets were prepared by a modified Hummers method and were mixed with Al powders by electrostatic self-assembly. After subsequent L-PBF processing, the GO reacted with Al atoms completely to form Al 4 C 3 nanorods that had a mean diameter of ∼140 nm and length of ∼2.3 μm, displaying a higher aspect ratio than that made by traditional powder metallurgy. Observations of high-resolution transmission electron microscopy revealed that the Al 4 C 3 was monocrystalline and intimately contacted with the Al matrix, consequently resulting in the noticeably enhanced mechanical performance of the composite. This work may offer significant guidance for designing and ',\n",
       " '© 2017 Elsevier Ltd In the present paper, density functional theory calculations were carried out on a detailed oxygen reduction reaction (ORR) process catalysed by nitrogen-doped β-graphyne (βGy). Nitrogen-doping can increase the positive charge of the adjacent carbon atom and the graphyne work function, promoting O2 decomposition. Our calculations revealed that N-doped βGy can efficiently facilitate the ORR process via a four-electron mechanism, regardless of doping position. Additionally, our results revealed that the N doping site was essential for tuning the ORR catalytic activity. N1 doping was shown to more effectively promote the ORR than N2 doping. In addition, our research enhances the current understanding of catalytic activity at the molecular ',\n",
       " 'Adsorbent composite blocks for natural gas adsorption have been produced by mixing PX-21 and expanded natural graphite (ENG), followed by consolidation in a mould. These composite blocks of 10-30% weight ratio of expanded natural graphite and 430-480 kg m-3 apparent density have shown good methane adsorption capacities and good heat and mass transfer properties. Volumetric methane adsorption capacity (V/V) of adsorbent composite blocks produced is in the range of 110-125 V/V. Permeability increases with weight ratio of ENG, and thermal conductivity, in the range of 2020-02-10 00:00:00 W m-1 K-1, is much higher than activated carbon packed bed. These good transfer properties of the adsorbent composite blocks will enhance performances of on-board natural gas vehicles in terms of delivered methane volume under realistic dynamic conditions. © 2001 Elsevier Science Ltd. All ',\n",
       " \"© 2014 Elsevier Ltd. All rights reserved. In this work, we report a simple self-assembly way to prepare ceria/graphene oxide (CeO2/GO) composite films on silicon (Si) substrates, which exhibit significant enhancement on tribological performances compared with Si substrates and GO films. Specifically, the friction coefficient is reduced drastically to the one-third of that of Si substrates. What's more, the antiwear lifetime is markedly prolonged to ∼8 h under a high applied load of 2 N, which is over seven times longer than that of GO films. It is expected that the CeO2/GO composite films may find wide applications in nano/microelectromechanical systems as high-performance solid lubricating films, due to their facile and low cost preparation, nano-scale thickness, lower friction coefficient and desired \",\n",
       " 'The change in percolation threshold of carbon black/polymer composite using coupling treatment was discussed. The polymer composite filled with a conductive filler became electrically conductive once the volume fraction of CB exceeded a certain critical value. The hydroxyl groups were expected to form hydrogen bonds with silanol groups, hydrolyzed from methoxysilane in the coupling agent. The amine salts formed by the reaction of amine with carboxyl decreased the energy needed for charge carriers to hop from conducting clusters. Analysis shows that the percolation threshold arised at an low CB content even in the case of unblended matrix composites ',\n",
       " 'HRTEM study of several soot samples collected on Diesel Particulate Filters (DPF) under conditions relevant to practical applications of DPF technology, revealed nano-structure, to our knowledge, not reported previously for diesel soot. In particular, some of the primary particles were found to have hollow interior, and the outer shell exhibiting evidence of graphitization, with a higher crystallinity compared to the non-hollowed particles. The percentage of such particles varied between different soot samples and tentatively appeared to be related to the oxidation history of the sample. Remarkably, similar effect was not reproduced for a carbon black sample, Printex-U, suggesting that propensity to such oxidation-induced graphitization is related to the original nano-structure of the particle. These initial observations were independently confirmed for the same set of soot samples by two different HRTEM facilities, at NASA-Glenn and PNNL. © 2006 Elsevier Ltd. All rights ',\n",
       " '© 2019 Elsevier Ltd Structural defects on graphene has been deemed to originate from the growth process. Galvanic corrosion appears at defect sites between copper and graphene. Here, we report the self-assembly of a hydrophobic perfluorooctyltriethoxysilane (PTES) film that accurately heals the defects on graphene. The healing agent, PTES, was chemically grafted selectively on the copper substrate, which was exposed at the defect site. Interestingly, the novel method healed the defects on graphene without weakening its electronic properties. Moreover, significant improvement in corrosion resistance for graphene-coated copper was observed from the electrochemical tests and long-term storage under environmental ',\n",
       " 'We developed a novel method to produce graphene on silicon carbide (SiC) at a temperature as low as 1000 °C. The method is based on liquid phase growth (LPG) of graphene mediated by liquid gallium, which acts not only as a flux to store carbon dissolved from a surface of SiC when heated, but also as a catalyst to promote the formation of graphene on SiC when cooled. Our experimental results revealed that gallium-treated SiC substrates are coated with uniform and continuous graphene films. The LPG method is able to supply graphene films consisting of one to several hundreds of layers, depending on heating temperatures. Our approach can not only provide an alternative way to form graphene natively on SiC, but will also bring a technological breakthrough in industrial applications of graphene, e.g. the realization of graphene-on-insulator substrates. © 2012 Elsevier Ltd. All ',\n",
       " 'Carbon nanotubes prepared by thermal decomposition of acetylene on cobalt catalysts were investigated by scanning tunnelling microscopy (STM). One of the STM images revealed a nanotube with a diameter ca 1 nm getting over atomic steps on the (HOPG) graphite substrate on which the samples were deposited. The deformation and the stresses in this nanotube were evaluated from continuous-medium elasticity, using 2020-12-06 00:00:00 C-C pair potentials to describe the interaction with the substrate. A good agreement was found between the computed shape of the deformed nanotube and that revealed by the STM. The calculations also indicated that the stresses only slowly increased with increasing step height and, for that reason, a nanotube adsorbed on a surface can get over sharp steps a few nanometres high without breaking. This result attests to the high flexibility of the carbon nanotube. © 1998 Elsevier Science Ltd. ',\n",
       " 'Composites of an electronically conducting polymer (polypyrrole) with carbon black were used to reduce Cr(VI) to (the less toxic) Cr(III) in aqueous media. The carbon black content in these composites was varied from ∼ 5 to ∼ 0.65 (by weight); an increase in the carbon black fraction increased the ability of the composite to reduce Cr(VI). The composite outperformed both its components, namely polypyrrole and carbon black, in its ability to treat Cr(VI). The Cr(VI) conversion obeyed pseudo first-order kinetics. The mechanistic and practical implications of this new Cr(VI) pollution abatement approach are discussed. Copyright © 1996 ',\n",
       " \"The isosteric heat of adsorption in the Henry's law region is calculated as a function of the pore width for carbon single wall cylindrical nanopores and spherical nanocavities. The maximum isosteric heat of adsorption is obtained for six gas molecules: argon, methane, carbon dioxide, hydrogen, helium, and nitrogen. In addition, the results for cylindrical carbon nanopores are compared with adsorption data on single-wall carbon nanotubes from the literature. We find the pore width where the isosteric heat of adsorption is a maximum for both geometries. The effect of solid-fluid parameters on the pore diameter for the maximum isosteric heat of adsorption is determined for any system described by a Lennard-Jones potential. Constant relationships between the pore diameters for the maximum isosteric heat of adsorption and the specific solid-fluid parameters are found for cylindrical nanopores, spherical nanocavities, and parallel-wall slit-shaped pores. Surface mean curvature has a significant influence on the isosteric heat of adsorption. © 2009 Elsevier Ltd. All rights \",\n",
       " 'Carbon membranes were obtained by the carbonisation (700°C) of a thin phenolic resin film deposited on the inner face of porous alumina tubes. The carbon membranes were stored in different environments (air, nitrogen and propylene) and the modification of their separation properties (permeance and permselectivity) with time was analysed periodically. It was observed that with time membranes stored in air undergo severe gas permeance losses. By contrast permselectivities increase slightly. The gas permeance losses of carbon membranes stored under nitrogen are much lower with respect to those stored in air. Storage of carbon membranes in propylene has a positive effect on permeance whereas permselectivities decrease slightly. Attempts to recover the permeances of air-aged carbon membranes have demonstrated that they can only partially be regenerated by means of heat treatment. The results indicate that the use of carbon membranes to separate gas mixtures containing oxygen (i.e. air) shows serious problems whereas the separation of oxygen-free gas mixtures (i.e. olefin/paraffin, n-butane/i-butane, hydrogen/hydrocarbons, etc.) is a more reliable option. © 2001 Elsevier Science ',\n",
       " 'The present work describes a novel approach for the textural characterisation of a carbonaceous porous medium. Due to the electronic conduction properties of expanded natural graphite (ENG), electrochemical determination was proposed and the use of cyclic voltammetry enables determination of the surface area and porous volume of ENG. First, experiments were performed without the electrochemical electron transfer reaction. Then, the volume of the entire transformation of potassium hexacyanoferrate into the pores of the material was deduced by applying the rules of thin-layer electrochemistry. For the specific surface area and the porosity, the results are satisfying, but in comparison with classical methods, the electrochemical procedure does not allow the determination of the pore size distribution of the material. It is possible to evaluate the mean pore diameter and to assume that the double-layer capacitance may depend on the kind of graphite surface (basal or edge plane). © 2003 Elsevier Science Ltd. All rights ',\n",
       " 'High-surface-area (over 3000 m2 g-1) active carbon (MAXSORB) was developed from a mixture of petroleum coke and an excess amount of potassium hydroxide. A considerable number (0.9-1.6 meq g-1) of surface functional groups were found compared to that of typical steam activated carbons (0.1-0.2 meq g-1). Breakthrough of sodium hypochlorite or chloroform was studied using model drinking water at 25°C, containing about 2 ppm of NaClO or 50 ppb of CHCl3. Regardless of the amount of surface functional groups, the performance of NaClO decomposition for MAXSORB was proportional to the BET surface area and reached a value of two to three times more than the typical steam activated carbon. There was an optimum BET surface area for CHCl3 removal, which was improved greatly by removing surface functional groups by heat treatment at 700°C. © ',\n",
       " 'Microwave irradiation can be efficient used as energy source in fullerene chemistry. In the wide range of reactions that have been performed, important improvements have been achieved: drastic reductions in reaction times; general improvements of yields in isolated products; reduction in decomposition of products; and efficient control of the reaction when polyadducts are possible ',\n",
       " 'Carbon/carbon composites were prepared with ribbon-shape pitch-based carbon fibers serving as reinforcement and thermosetting PFA resin and thermoplastic pitch as matrix precursors. The composites were heat treated to 1000, 1600 and 2700 °C. Microstructural transformations taking place in the reinforcement, carbon matrix, and the interface were studied using polarized optical and scanning electron microscopy. The fiber/matrix bond and ordering of the carbon matrix in heat-treated composites was found to vary depending on the heat treatment temperature of the fibers. Stabilized fiber cleaved during carbonization of resin-derived composites. In contrast, fibers retain their shape during carbonization of pitch matrix composites. Optical activity was observed in composites made with carbonized fibers; the extent decreases with increased heat treatment of the fibers. Studies at various heat treatment temperatures indicate that ribbon-shape fibers developed ordered structure at 1600 °C when co-carbonized with thermosetting resin or thermoplastic pitches. © 2003 Elsevier Science ',\n",
       " \"Soot may be formed when carbonaceous fuels are burned under local reducing conditions. Its subsequent oxidation is of great significance for pollution control in industrial flames, auto engines etc. Oxidation (gasification) can be achieved with oxygen, carbon dioxide, water vapour or nitrogen dioxide. In this review, the experimental techniques which have been used to study the gasification of soot are described and the methods and results obtained by analysis of the data from them are considered. Firstly, the mechanism of soot formation and its structure are briefly discussed. The various scales of particulate which comprise it, i.e. spherule, particle and aggregate, influence its properties and behaviour. Next, the experimental equipment used in the study of its gasification is briefly described. Gasification kinetics at low temperatures are measured either in fixed beds or by thermogravimetry. The apparatus may be operated as a thermally programmed desorption system to identify the species involved. High temperature investigations have been carried out in entrainment burners and shock tubes. The chemistry of soot oxidation is discussed for both non-catalytic and catalytic conditions. The oxidation pathway involves interaction between adsorption and desorption processes, which determine the primary products, the order of reaction and the activation energy. The concensus is that two types of adsorbed surface species are present in uncatalysed combustion. The combustion mechanism of individual spherules is considered in terms of basic property changes. During thermogravimetry, the influence of the competition between reaction and oxygen diffusion in soot beds is analysed. The reaction of catalysed soot displays a different mechanism, as the primary products, the order of reaction and the activation energy all change. The lower activation energy and higher reactivity lead to lower ignition temperatures. Catalysts may be incorporated into the soot spherules by addition to the fuel, or may be added after formation. Two types of contact between the carbon and added catalyst have been identified, loose' and tight'. Tight catalyst, which has been mechanically ground with the soot, produces more pronounced effects. Finally, the behaviour of soot during gasification by other oxidants, namely H2O, CO2 and NO2 is summarised. © 2001 Elsevier Science Ltd. All rights \",\n",
       " 'A consolidated composite reactive bed for refrigeration sorption systems made from expanded graphite powder impregnated with CaCl2 was produced and tested. The composite material was compressed under a pressure of 10 MPa to enhance its heat transfer properties. Experimental results showed that this material could incorporate 0.9 kg of NH3 per kg of salt and that the agglomeration phenomenon was avoided. The blocks with apparent density of 0.56 g cm-3 and 0.35 of expanded graphite ensured a good refrigerant mass transfer with a negligible pressure drop between the inner and outer part of the blocks. However, the heat transfer still need some improvements, as the temperature difference inside the blocks could reach 15 °C during the decomposition phase. The average specific cooling power during the synthesis phase was 306 and 194 W per kg of salt at the average evaporation temperatures of -2.7 and -18.3 °C, respectively. The calculated coefficient of performance under different generation temperatures and global conversions ranged from 0.28 to 0.46, and it was not very sensitive to the increase ',\n",
       " 'The surface compositional and any structural changes that occur on carbon nanotubes using air-atmospheric pressure dielectric barrier discharge (APDBD) for functionalization are investigated employing Raman spectroscopy, X-ray photoelectron spectroscopy (XPS), thermal gravimetric analysis (TGA), X-ray diffraction (XRD), and neutron diffraction techniques. Atmospheric pressure plasmas (APP) are suggested to be particularly suitable for functionalization of aligned nanotubes, where wet chemical manipulation could damage or even destroy the highly desirable vertical alignment. In this work a detailed experimental study elucidating the effects of APDBD plasma treatment parameters (e.g. power density, discharge composition, inter-electrode gap and treatment time) on the electronic structure, physical, and chemical behaviour of carbon nanotubes has been conducted. In an atmospheric air we find an optimal oxidative functionalization of CNTs in our DBD system within few seconds (<5 s) at a discharge power of ∼0.5 kW. This investigation may find useful application as functionalization technique for CNT engineered devices and sensors. © 2005 Elsevier Ltd. All rights ',\n",
       " 'Band structure calculations show that carbon nanotubes exist as either metals or semiconductors, depending on diameter and degree of helicity. When the diameters of the nanotubes become comparable to the electron wavelength, the band structure becomes noticeably one-dimensional. Scanning tunneling microscopy and spectroscopy data on nanotubes with outer diameters from 2 to 10 nm show evidence of one-dimensional behavior: the current-voltage characteristics are consistent with the functional energy dependence of the density-of-states in 1D systems. The measured energy gap values vary linearly with the inverse nanotube diameter. Electrical resistivity and magnetoresistance measurements have been reported for larger bundles, and the temperature dependence of the electrical resistance of a single microbundle was found to be similar to that of graphite and its magnetoresistance was consistent with the formation of Landau levels. Magnetic susceptibility data taken on bundles of similar tubes reveal a mostly diamagnetic behavior. The susceptibility at fields above the value at which the magnetic length equals the tube diameter has a graphite-like dependence on temperature and field. At low fields, where electrons sample the effect of the finite tube diameter, the susceptibility has a much more pronounced temperature ',\n",
       " '© 2016 Elsevier Ltd Despite significant efforts to develop ways to produce customized carbon-based nanostructures, facile synthesis of mass graphene/graphitic nanoribbons (GNRs) without losing the intrinsic sp2-structure and properties remains challenging. Here we report that bulk of multi-layered graphitic nanoribbons can be prepared by gas-phase oxidative splitting of multi-walled carbon nanotubes (MWCNTs) using HNO3 vapor. The longitudinal splitting behavior of MWCNTs is substantially dependent on three key factors: the utilization of gaseous oxidant, the use of highly-crystallined carbon nanotubes with larger diameter, and the associated high-pressure conditions. Moreover, this splitting process is evidenced to be edge-selective and nonaggressive as opposed to traditional wet chemical oxidation, for which the obtained GNRs show minimized oxidation level, highly intact crystalline and robust electrical conductance. This study suggests a simple yet effective strategy for producing mass high-quality ',\n",
       " '© 2018 Visualization of dispersion is a challenging and unresolved issue for high aspect ratio nanofillers, such as surface-modified graphene oxide (mGO) and carbon nanotubes, in fiber reinforced polymer (FRP) composites. Conventional metrologies to study dispersion (location, spacing, size, etc.) have proven difficult and impractical when the fibers are present, particularly at the industrially-relevant, low mass fractions of nanofillers. Here, Raman spectroscopy and imaging are exploited to investigate the dispersion of mGO in unsaturated polyester (UP) resin composites both with and without glass microfiber reinforcement. Through comparative TEM and Raman maps on the same sample area, we validate a detailed Raman methodology to detect mGO agglomerate positions, even at low loadings of < 0.1 % by mass, where the sensitivity of the mGO Raman signal is dependent on incident laser wavelength. More importantly, we expand this to FRP composites, where by a proper choice of incident wavelength to avoid glass fiber fluorescence, Raman imaging is able to identify surface (2D) and sub-surface (3D) mGO microstructures near microfibers in the inter- and intralaminar regions. This measurement technique will find significant use in the FRP composite community as a readily available method to qualitatively correlate dispersion properties to processing techniques and/or ',\n",
       " 'The effect of a hot isostatic pressing (HIP) treatment on glass-like carbon (GC) was investigated by a small-angle X-ray scattering (SAXS) method. The sample was prepared from phenol-formaldehyde resin at 1700°C and then HIP-treated at 2500°C at 200 MPa in inert gas atmosphere. The structure change in pores was expected, because the bulk density of the HIP-treated GC is higher than those of untreated GCs. In order to contrast the HIP-treatment effect, SAXS measurements on untreated GCs were also carried out. The scattering intensity from the HIP-treated GC was weaker than that from the GC which was heat-treated only at the same temperature 2500°C. On the other hand, the distance distribution function (DDF) analysis showed that the sizes and shapes of nanopores for the both GCs are almost the same. It was proved that the HIP process contributes to not reducing the size but decreasing the number of nanopores in the GC. The facts suggest that the size of uncrushed nanopores will be the minimum o ne for each heat-treated GC. © 2001 Elsevier Science Ltd. All ',\n",
       " '© 2020 Elsevier Ltd The theoretically predicted plasmon energy in doped carbon nanotubes overestimates the observed value by more than 10%. We find that an environment with finite conductivity reduces both the plasmon energy and lifetime, which also accounts for an experimental indication that the plasmon is invisible when a specific substance is used to dope nanotubes. We grasp the mechanism by calculating the change in the surface plasmon dispersions for graphene with conductive ',\n",
       " '© 2015 Elsevier Ltd. Hydrogels can efficiently separate metallic and semiconducting single-wall carbon nanotube (SWCNT) species at high rates by selective adsorption in a column configuration, but mechanistic details remain unclear. We examined the temperature dependence of SWCNT adsorption in an operating column using a model that considers the formation of an activated complex. The enthalpy and entropy changes associated with formation of the activated complex were determined. Due to a high sensitivity to protonation doping, large diameter pulsed laser vaporization tubes provided an opportunity to probe details of the adsorption mechanism. In contrast to the prevailing view in the literature, we conclude that the surfactant environment surrounding the nanotube is substantially reorganized upon adsorption and that adsorption also occurs within gel pores. Our findings provide new mechanistic insights that should assist in the development of improved separation ']"
      ]
     },
     "execution_count": 151,
     "metadata": {},
     "output_type": "execute_result"
    }
   ],
   "source": [
    "tokenized_to_string(tokens)"
   ]
  },
  {
   "cell_type": "code",
   "execution_count": null,
   "metadata": {},
   "outputs": [],
   "source": [
    "#next, need to tokenize with nltk\n"
   ]
  }
 ],
 "metadata": {
  "kernelspec": {
   "display_name": "Python 3",
   "language": "python",
   "name": "python3"
  },
  "language_info": {
   "codemirror_mode": {
    "name": "ipython",
    "version": 3
   },
   "file_extension": ".py",
   "mimetype": "text/x-python",
   "name": "python",
   "nbconvert_exporter": "python",
   "pygments_lexer": "ipython3",
   "version": "3.7.4"
  }
 },
 "nbformat": 4,
 "nbformat_minor": 4
}
